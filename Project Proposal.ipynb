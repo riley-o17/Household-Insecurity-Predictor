{
 "cells": [
  {
   "cell_type": "raw",
   "id": "33dd6c4c",
   "metadata": {},
   "source": [
    "---\n",
    "title: \"Project proposal\"\n",
    "format: \n",
    "  html:\n",
    "    toc: true\n",
    "    toc-title: Contents\n",
    "    code-fold: show\n",
    "    self-contained: true\n",
    "jupyter: python3\n",
    "---"
   ]
  },
  {
   "cell_type": "markdown",
   "id": "0116f49b",
   "metadata": {},
   "source": [
    "## Instructions {-}\n",
    "\n",
    "1. Please answer the following questions as part of your project proposal.\n",
    "\n",
    "2. Write your answers in the *Markdown* cells of the Jupyter notebook. You don't need to write any code, but if you want to, you may use the *Code* cells.\n",
    "\n",
    "3. Use [Quarto](https://quarto.org/docs/output-formats/html-basics.html) to print the *.ipynb* file as HTML. You will need to open the command prompt, navigate to the directory containing the file, and use the command: `quarto render filename.ipynb --to html`. Submit the HTML file.\n",
    "\n",
    "4. The project proposal is worth 8 points, and is due on **18th April 2023 at 11:59 pm**. \n",
    "\n",
    "5. You must make one submission as a group, and not individually.\n",
    "\n",
    "6. Maintaining a GitHub repository is optional, though encouraged for the project.\n",
    "\n",
    "7. Share the link of your project's GitHub repository [here](https://docs.google.com/spreadsheets/d/1khao3unpj_vsx4kOSg_Zzo77YK1UWL2w73Oa0aAirOo/edit#gid=0) (optional)."
   ]
  },
  {
   "cell_type": "markdown",
   "id": "fe7ea9bb",
   "metadata": {},
   "source": [
    "# 1) Team name\n",
    "Mention your team name.\n",
    "\n",
    "*(0 points)*"
   ]
  },
  {
   "cell_type": "markdown",
   "id": "ca842218",
   "metadata": {},
   "source": [
    "We are **Team Too-Pullz**."
   ]
  },
  {
   "cell_type": "markdown",
   "id": "16fccc9b",
   "metadata": {},
   "source": [
    "# 2) Member names\n",
    "Mention the names of your team members.\n",
    "\n",
    "*(0 points)*"
   ]
  },
  {
   "cell_type": "markdown",
   "id": "3f585009",
   "metadata": {},
   "source": [
    "The members of **Team Too-Pullz** are as follows: <br>\n",
    "1. Lila Weiner <br>\n",
    "2. Gabrielle Bliss <br>\n",
    "3. Riley Otsuki <br>\n",
    "4. Kenneth Yeon <br>"
   ]
  },
  {
   "cell_type": "markdown",
   "id": "220a6528",
   "metadata": {},
   "source": [
    "# 3) Link to the GitHub repository (optional)\n",
    "Share the link of the team's project repository on GitHub.\n",
    "\n",
    "Also, put the link of your project's GitHub repository [here](https://docs.google.com/spreadsheets/d/1khao3unpj_vsx4kOSg_Zzo77YK1UWL2w73Oa0aAirOo/edit#gid=0).\n",
    "\n",
    "We believe there is no harm in having other teams view your GitHub repository. However, if you don't want anyone to see your team's work, you may make the repository *Private* and add your instructor and graduate TA as *Colloborators* in it.\n",
    "\n",
    "*(0 points)*"
   ]
  },
  {
   "cell_type": "markdown",
   "id": "ca54b563",
   "metadata": {},
   "source": [
    "> The link to our GitHub Repo: https://github.com/gtbliss/Too-Pullz-Project-Food-Security"
   ]
  },
  {
   "cell_type": "markdown",
   "id": "16c1a490",
   "metadata": {},
   "source": [
    "# 4) Topic\n",
    "Mention the topic of your course project.\n",
    "\n",
    "*(0 points)*"
   ]
  },
  {
   "cell_type": "markdown",
   "id": "511eecda",
   "metadata": {},
   "source": [
    "Our topic for this final Data Science Sequence Project is **food security**, i.e. consistent accessibility to sufficient food, in the United States. <br> <br>\n",
    "The prevailing definition of food security, agreed upon at the 1996 World Food Summit, is “access by all members at all times to enough food for an active, healthy life”. This implies the ready availability of nutritionally adequate and safe foods, and an assured ability to acquire acceptable foods in socially acceptable ways. The United States Census Bureau last conducted a survey regarding food security in December 2021, and we are looking to use the responses from this survey to categorize whether or not a household has high food security or low food security. Based on the census data, we will train models to predict these responses, and can also make comparisons between the predictive accuracy of a model that predicts general food security and possibly model(s) that predict food security for children in households, or food security amongst adults in households, as these response variables are present in the extensive census dataset as well."
   ]
  },
  {
   "cell_type": "markdown",
   "id": "9403cdfb",
   "metadata": {},
   "source": [
    "# 5) Problem statement\n",
    "\n",
    "*(4 points)*\n",
    "\n",
    "Explain the problem statement. The problem statement must include:\n",
    "\n",
    "## 5a) The problem"
   ]
  },
  {
   "cell_type": "markdown",
   "id": "ac17c811",
   "metadata": {},
   "source": [
    "Our overarching question is: **How can we identify instances of food insecurity across the U.S., based on a collection of potential indicators, in order to accurately predict the proportion of insecurity and properly allocate resources where they are most needed?** <br> <br>\n",
    "From general research, there is a consensus that “if [the government] knew better the predictive accuracy of different indicators in forecasting future food security states, [they] could cost-effectively concentrate data collection measures of which targetable actions can be most reliably programmed”. Thus, this issue and need for predictive accuracy in models regarding the United States’ food security in households warrants our project on predicting whether a household will be secure food-wise. \n"
   ]
  },
  {
   "cell_type": "markdown",
   "id": "9a0dee45",
   "metadata": {},
   "source": [
    "## 5b) Type of response\n",
    "Is it about predicting a continuous response or a binary response or a combination of both?"
   ]
  },
  {
   "cell_type": "markdown",
   "id": "86e480e2",
   "metadata": {},
   "source": [
    "For our exploration, we will be predicting a **binary response** defined by the Bureau’s survey as “Common Screen Indicator for 12-Month Recall”. The response takes on one of two values: <br> \n",
    "1. Household Did Not Pass Common Screen High Food Security Assumed (Negative) <br>\n",
    "2. Household Passed Common Screen Food Security Status (Positive) <br>\n",
    "\n",
    "Essentially, the response classifies each household as having high food security, or not having high food security. The response variable in the dataset is `HRFS12CX`. Possibilities for the extension of this project include creating/extending models to predict security for children or adults in households as well, but we will focus on general classification for now. "
   ]
  },
  {
   "cell_type": "markdown",
   "id": "2c8cb75b",
   "metadata": {},
   "source": [
    "## 5c) Performance metric\n",
    "How will you assess model accuracy?\n",
    "\n",
    "  - If it is a classification problem, then which measure(s) will you optimize for your model – precision, recall, false negative rate (FNR), accuracy, ROC-AUC etc., and why?\n",
    "  - If it is a regression problem, then which measure(s) will you optimize for your model – RMSE (Root mean squared error), MAE (mean absolute error), maximum absolute error etc., and why?"
   ]
  },
  {
   "cell_type": "markdown",
   "id": "2a68726d",
   "metadata": {},
   "source": [
    "We will prioritize minimizing the **false positive rate (FPR)**, while also maximizing **precision**, or the model’s ability to make accurate positive predictions, in order to achieve a well-performing binary classification model on food security. We want to avoid classifying a household as food secure when in reality they are suffering from a lack of access to adequate nutrition. Of course, overall accuracy in general is also a concern when optimizing our model, but these other metrics are of special interest for the reason(s) specified."
   ]
  },
  {
   "cell_type": "markdown",
   "id": "57701e9e",
   "metadata": {},
   "source": [
    "## 5d) Naive model accuracy\n",
    "What is the accuracy of the naive model (Standard deviation of response in case of continuous response / proportion of the majority class in case of classification model)"
   ]
  },
  {
   "cell_type": "markdown",
   "id": "59df5aec",
   "metadata": {},
   "source": [
    "In the raw dataset, the predictor response is `HRFS12CX` and the majority class (Value = 1) proportion is **82.65%** out of the responses that are in the binary classes of interest (we are not including the no response observations). For this response variable, a value of 2 signifies that the “Household did not pass common screen high food security assumed”, while a value of 1 signifies that “Household passed common screen food security status indicated by HRFS12 series of variables”. We will adjust this column to consist of 0’s and 1’s for future predictive modeling and training; a more intuitive coded response variable will be 0 for “did not pass” and 1 for “passed”.\n"
   ]
  },
  {
   "cell_type": "markdown",
   "id": "3eb2d4f2",
   "metadata": {},
   "source": [
    "# 6) Data\n",
    "\n",
    "## 6a) Source\n",
    "What data sources will you use, and how will the data help solve the problem? Explain.\n",
    "If the data is open source, share the link of the data.\n",
    "\n",
    "*(0.5 point)*"
   ]
  },
  {
   "cell_type": "markdown",
   "id": "dc979adf",
   "metadata": {},
   "source": [
    "We will use an open-source dataset from the **U.S. Census Bureau** website. The data contains the responses of the annual **CPS (Current Population Survey) Food Security Supplement**, conducted by the U.S. Census Bureau for the Economic Research Service of the U.S. Department of Agriculture. This survey is conducted across the United States, in order to research the range of food security experienced in U.S. households. The data is accompanied with an extensive “Technical Documentation” file, which explains all the (unintuitive) variable names and response meanings. Generally, the variables S8B through S8D deal with minimum food spending needed, whereas predictors S9 through SP9 deal with food program participation. Other predictors deal with food sufficiency and ways of coping with not having enough food. The documentation states that “Measures that combine information from multiple items (HRFS12M1 and following) are generally considered to be more reliable measures of food security and food insecurity”, and these are the possible response variables; our desired response variable is mentioned above. <br><br>\n",
    "This file also gives an overview of the ways in which the data was collected and the timelines as well: “The CPS has been conducted monthly for over 60 years. Currently, [they] obtain interviews from about 54,000 households monthly, scientifically selected on the basis of area of residence to represent the nation as a whole, individual states, and other specified areas. Each household is interviewed once a month for four consecutive months one year, and again for the corresponding time period a year later. This technique enables [them] to obtain reliable month-to-month and year-to-year comparisons at a reasonable cost while minimizing the inconvenience to any one household.” \n"
   ]
  },
  {
   "cell_type": "markdown",
   "id": "07e73990",
   "metadata": {},
   "source": [
    "> The link to the open source dataset: https://www.census.gov/data/datasets/time-series/demo/cps/cps-supp_cps-repwgt/cps-food-security.html#cpssupps"
   ]
  },
  {
   "cell_type": "markdown",
   "id": "87bee818",
   "metadata": {},
   "source": [
    "## 6b) Response & predictors\n",
    "What is the response, and mention some of the predictors.\n",
    "\n",
    "*(0.5 point)*"
   ]
  },
  {
   "cell_type": "markdown",
   "id": "8cd3deb6",
   "metadata": {},
   "source": [
    "Our response variable is named `HRFS12CX`. This variable is a common screen indicator for 12-Month recall. It “indicates screening status under the “common screen” that allows comparisons of food security prevalence rates across all years since data were first collected in 1995” (Technical Documentation).The values for this variable are either 2 (Household did not pass common screening), 1 (Household passed common screening), and -5 (Missing no valid scale items). <br> <br>\n",
    "The data set has over 500 predictors, which range from household demographics to economic status. For instance, `HEFAMINC` describes household income, `PUCHINHH` describes changes in household composition, `PRFAMREL` describes family relationship, and `PEMLR` describes monthly labor force records. Again, generally, the variables S8B through S8D deal with minimum food spending needed, whereas predictors S9 through SP9 deal with food program participation. Other predictors deal with food sufficiency and ways of coping with not having enough food.\n"
   ]
  },
  {
   "cell_type": "markdown",
   "id": "8eb561c3",
   "metadata": {},
   "source": [
    "## 6c) Size\n",
    "What is the number of continuous predictors, categorical predictors, and observations in your dataset(s). If you are using multiple datasets, please provide the information for each dataset. When counting predictors, count only those that have sufficient non-missing values, and will be useful.\n",
    "\n",
    "*(1 point)*"
   ]
  },
  {
   "cell_type": "markdown",
   "id": "e7abbdc0",
   "metadata": {},
   "source": [
    "In our total, raw dataset, there are 127489 observations and 507 predictor variables. All of the predictors/variables in the dataset are categorical predictors (the number of categories per predictor range from 2-10+). As noted by The Census Bureau, beginning in 2015, no continuous variables are used on public-use data files—they are categorized due to concerns about disclosure (December 2021 Food Security Technical Documentation, 17-2). As such, there are 507 categorical predictors, which reflects the way the surveys are filled out. Thus, by using these predictors in our model, we will create something directly applicable to the survey data accessed by the Bureau. We are only using the dataset from 2021, as we want our model to be the most current as possible—the most applicable to the present."
   ]
  },
  {
   "cell_type": "markdown",
   "id": "0450286f",
   "metadata": {},
   "source": [
    "# 7) Existing solutions\n",
    "Are there existing solutions of your problem? Almost all Kaggle datasets have exisiting solutions. If yes, then how do you plan to build up on those solutions? **What is the highest model accuracy / performance achieved in the existing solutions?**\n",
    "\n",
    "*(1 point)*"
   ]
  },
  {
   "cell_type": "markdown",
   "id": "05ec8e19",
   "metadata": {},
   "source": [
    "There have been solutions developed for the broad topic of food security (i.e. COVID-19 Impact on Food Security and Global Food Security), however there has not been a solution developed for this specific data set and year that we know of. We hope that by creating a predictive model for this post-pandemic, most recent data, our model will not only explain food insecurity for 2021, but also for the coming years since assuming the political and social climate continues to be largely consistent."
   ]
  },
  {
   "cell_type": "markdown",
   "id": "cb8a845f",
   "metadata": {},
   "source": [
    "# 8) Stakeholders"
   ]
  },
  {
   "cell_type": "markdown",
   "id": "d39c782c",
   "metadata": {},
   "source": [
    "Who are the stakeholders, and how will your project benefit them? Explain.\n",
    "\n",
    "*(1 point)*"
   ]
  },
  {
   "cell_type": "markdown",
   "id": "970cbdcb",
   "metadata": {},
   "source": [
    "1. **Government agencies:** Any government agency that is responsible for addressing food insecurity may be interested in this project to inform their policies and programs. \n",
    "    - SNAP (Supplemental Nutrition Assistance Program) is a government program that distributes electronic benefit transfers to low-wage working families/seniors/individuals. Insights as to which households are in need of financial assistance would help SNAP allocate their funds appropriately and efficiently. \n",
    "\n",
    "2. **Non-profit organizations:** Non-profit organizations focused on hunger and food insecurity issues could find our project helpful in identifying areas of need and targeting their resources effectively.\n",
    "\n",
    "3. **General public:** The general public, including individuals who may be personally affected by food insecurity, could be interested in this project as a way to better understand the scope and scale of the problem and advocate for change.  \n"
   ]
  },
  {
   "cell_type": "markdown",
   "id": "0c874b4f",
   "metadata": {},
   "source": [
    "# 9) Work-split\n",
    "*(This question is answered for you)*\n",
    "\n",
    "How do you plan to split the project work amongst individual team members?\n",
    "\n",
    "We will learn to develop and tune the following models in the STAT 303 sequence:\n",
    "\n",
    "1. MARS\n",
    "\n",
    "2. Decision trees with cost-complexity pruning\n",
    "\n",
    "3. Bagging (Bagging MARS / decision trees)\n",
    "\n",
    "4. Random Forests\n",
    "\n",
    "5. AdaBoost\n",
    "\n",
    "6. Gradient boosting\n",
    "\n",
    "7. XGBoost\n",
    "\n",
    "8. Lasso / Ridge / Stepwise selection \n",
    "\n",
    "Each team member is required to develop and tune at least one of the above models. In the end, the team will combine all the developed models to create a model more accurate than each of the individual models.\n",
    "\n",
    "*(0 points)*"
   ]
  }
 ],
 "metadata": {
  "kernelspec": {
   "display_name": "Python 3 (ipykernel)",
   "language": "python",
   "name": "python3"
  },
  "language_info": {
   "codemirror_mode": {
    "name": "ipython",
    "version": 3
   },
   "file_extension": ".py",
   "mimetype": "text/x-python",
   "name": "python",
   "nbconvert_exporter": "python",
   "pygments_lexer": "ipython3",
   "version": "3.9.12"
  }
 },
 "nbformat": 4,
 "nbformat_minor": 5
}
