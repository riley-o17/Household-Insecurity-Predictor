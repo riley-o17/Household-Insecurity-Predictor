{
  "cells": [
    {
      "cell_type": "markdown",
      "id": "fbb6c4d0",
      "metadata": {
        "id": "fbb6c4d0"
      },
      "source": [
        "# Project"
      ]
    },
    {
      "cell_type": "markdown",
      "id": "b2e3dd53",
      "metadata": {
        "id": "b2e3dd53"
      },
      "source": [
        "**Data Preparation**"
      ]
    },
    {
      "cell_type": "code",
      "source": [
        "%%capture\n",
        "!git clone --single-branch --branch v0.2dev https://github.com/scikit-learn-contrib/py-earth.git\n",
        "%cd py-earth\n",
        "!python setup.py install --cythonize"
      ],
      "metadata": {
        "id": "oP8PYdbHWA0e"
      },
      "id": "oP8PYdbHWA0e",
      "execution_count": 1,
      "outputs": []
    },
    {
      "cell_type": "code",
      "execution_count": 1,
      "id": "01c16834",
      "metadata": {
        "id": "01c16834"
      },
      "outputs": [],
      "source": [
        "import pandas as pd\n",
        "import numpy as np\n",
        "import seaborn as sns\n",
        "import matplotlib.pyplot as plt\n",
        "from sklearn.metrics import mean_squared_error\n",
        "from sklearn.model_selection import cross_val_score,train_test_split, KFold, cross_val_predict\n",
        "from sklearn.metrics import mean_squared_error,r2_score,roc_curve,auc,precision_recall_curve, accuracy_score, \\\n",
        "recall_score, precision_score, confusion_matrix\n",
        "from sklearn.tree import DecisionTreeRegressor,DecisionTreeClassifier\n",
        "from sklearn.model_selection import GridSearchCV, ParameterGrid, StratifiedKFold\n",
        "from sklearn.ensemble import BaggingRegressor,BaggingClassifier,AdaBoostRegressor,AdaBoostClassifier\n",
        "from sklearn.linear_model import LinearRegression,LogisticRegression\n",
        "from sklearn.neighbors import KNeighborsRegressor\n",
        "import itertools as it\n",
        "from pyearth import Earth"
      ]
    },
    {
      "cell_type": "code",
      "execution_count": 21,
      "id": "3d0f71e7",
      "metadata": {
        "id": "3d0f71e7"
      },
      "outputs": [],
      "source": [
        "food_data = pd.read_csv('dec21pub.csv')"
      ]
    },
    {
      "cell_type": "markdown",
      "id": "97be75d8",
      "metadata": {
        "id": "97be75d8"
      },
      "source": [
        "\"Measures that combine information from multiple items (HRFS12M1 and following) are generally considered to be more reliable measures of food security and food insecurity\" <br>\n",
        "\n",
        "Maybe we want to drop predictors, as they are manipulations of the existing variables. Or explore VIF"
      ]
    },
    {
      "cell_type": "code",
      "source": [
        "list(food_data.columns).index('HES1A')"
      ],
      "metadata": {
        "colab": {
          "base_uri": "https://localhost:8080/"
        },
        "id": "_p4yTqZ30WUM",
        "outputId": "ba4859b3-7576-46dc-8d4f-4773e679ee73"
      },
      "id": "_p4yTqZ30WUM",
      "execution_count": 22,
      "outputs": [
        {
          "output_type": "execute_result",
          "data": {
            "text/plain": [
              "391"
            ]
          },
          "metadata": {},
          "execution_count": 22
        }
      ]
    },
    {
      "cell_type": "code",
      "execution_count": 23,
      "id": "1d2f7382",
      "metadata": {
        "colab": {
          "base_uri": "https://localhost:8080/"
        },
        "id": "1d2f7382",
        "outputId": "73d0bb62-cd79-406e-8f6a-9fef319d1b34"
      },
      "outputs": [
        {
          "output_type": "execute_result",
          "data": {
            "text/plain": [
              "487"
            ]
          },
          "metadata": {},
          "execution_count": 23
        }
      ],
      "source": [
        "list(food_data.columns).index('HRFS12M1')\n",
        "#the 486th column of the data."
      ]
    },
    {
      "cell_type": "markdown",
      "id": "b578cab0",
      "metadata": {
        "id": "b578cab0"
      },
      "source": [
        "HRINTSTA informs whether or not the interview took place. We only want interviews that are complete!"
      ]
    },
    {
      "cell_type": "code",
      "execution_count": 24,
      "id": "fe098922",
      "metadata": {
        "colab": {
          "base_uri": "https://localhost:8080/"
        },
        "id": "fe098922",
        "outputId": "182d0739-6979-45d2-ac55-7546f4e1ada4"
      },
      "outputs": [
        {
          "output_type": "execute_result",
          "data": {
            "text/plain": [
              "(71571, 507)"
            ]
          },
          "metadata": {},
          "execution_count": 24
        }
      ],
      "source": [
        "#1's mean that the interview took place. Filter for this\n",
        "#HRSUPINT 1's mean that the food security supplement survey took place. Filter for this too\n",
        "\n",
        "food_data = food_data.loc[food_data['HRINTSTA']==1, :]\n",
        "food_data = food_data.loc[food_data['HRSUPINT']==1,:]\n",
        "food_data.shape\n",
        "\n",
        "#these are households that completed the interview and the food security supplement survey. Ensuring no missing vals"
      ]
    },
    {
      "cell_type": "code",
      "execution_count": 25,
      "id": "4920a087",
      "metadata": {
        "id": "4920a087"
      },
      "outputs": [],
      "source": [
        "#response variable: -5 indicates a missing val...\n",
        "to_drop = list(food_data.loc[food_data['HRFS12CX']==-5, :].index) #38 vals were dropped here\n",
        "food_data = food_data.drop(to_drop, axis=0)"
      ]
    },
    {
      "cell_type": "code",
      "execution_count": 26,
      "id": "6b8c466f",
      "metadata": {
        "colab": {
          "base_uri": "https://localhost:8080/",
          "height": 111
        },
        "id": "6b8c466f",
        "outputId": "c70a922d-23a9-49d6-bcc2-c01203137095"
      },
      "outputs": [
        {
          "output_type": "execute_result",
          "data": {
            "text/plain": [
              "       y\n",
              "0  59124\n",
              "1  12409"
            ],
            "text/html": [
              "\n",
              "  <div id=\"df-f35aceab-0efc-44d9-baa5-5bd91378452d\">\n",
              "    <div class=\"colab-df-container\">\n",
              "      <div>\n",
              "<style scoped>\n",
              "    .dataframe tbody tr th:only-of-type {\n",
              "        vertical-align: middle;\n",
              "    }\n",
              "\n",
              "    .dataframe tbody tr th {\n",
              "        vertical-align: top;\n",
              "    }\n",
              "\n",
              "    .dataframe thead th {\n",
              "        text-align: right;\n",
              "    }\n",
              "</style>\n",
              "<table border=\"1\" class=\"dataframe\">\n",
              "  <thead>\n",
              "    <tr style=\"text-align: right;\">\n",
              "      <th></th>\n",
              "      <th>y</th>\n",
              "    </tr>\n",
              "  </thead>\n",
              "  <tbody>\n",
              "    <tr>\n",
              "      <th>0</th>\n",
              "      <td>59124</td>\n",
              "    </tr>\n",
              "    <tr>\n",
              "      <th>1</th>\n",
              "      <td>12409</td>\n",
              "    </tr>\n",
              "  </tbody>\n",
              "</table>\n",
              "</div>\n",
              "      <button class=\"colab-df-convert\" onclick=\"convertToInteractive('df-f35aceab-0efc-44d9-baa5-5bd91378452d')\"\n",
              "              title=\"Convert this dataframe to an interactive table.\"\n",
              "              style=\"display:none;\">\n",
              "        \n",
              "  <svg xmlns=\"http://www.w3.org/2000/svg\" height=\"24px\"viewBox=\"0 0 24 24\"\n",
              "       width=\"24px\">\n",
              "    <path d=\"M0 0h24v24H0V0z\" fill=\"none\"/>\n",
              "    <path d=\"M18.56 5.44l.94 2.06.94-2.06 2.06-.94-2.06-.94-.94-2.06-.94 2.06-2.06.94zm-11 1L8.5 8.5l.94-2.06 2.06-.94-2.06-.94L8.5 2.5l-.94 2.06-2.06.94zm10 10l.94 2.06.94-2.06 2.06-.94-2.06-.94-.94-2.06-.94 2.06-2.06.94z\"/><path d=\"M17.41 7.96l-1.37-1.37c-.4-.4-.92-.59-1.43-.59-.52 0-1.04.2-1.43.59L10.3 9.45l-7.72 7.72c-.78.78-.78 2.05 0 2.83L4 21.41c.39.39.9.59 1.41.59.51 0 1.02-.2 1.41-.59l7.78-7.78 2.81-2.81c.8-.78.8-2.07 0-2.86zM5.41 20L4 18.59l7.72-7.72 1.47 1.35L5.41 20z\"/>\n",
              "  </svg>\n",
              "      </button>\n",
              "      \n",
              "  <style>\n",
              "    .colab-df-container {\n",
              "      display:flex;\n",
              "      flex-wrap:wrap;\n",
              "      gap: 12px;\n",
              "    }\n",
              "\n",
              "    .colab-df-convert {\n",
              "      background-color: #E8F0FE;\n",
              "      border: none;\n",
              "      border-radius: 50%;\n",
              "      cursor: pointer;\n",
              "      display: none;\n",
              "      fill: #1967D2;\n",
              "      height: 32px;\n",
              "      padding: 0 0 0 0;\n",
              "      width: 32px;\n",
              "    }\n",
              "\n",
              "    .colab-df-convert:hover {\n",
              "      background-color: #E2EBFA;\n",
              "      box-shadow: 0px 1px 2px rgba(60, 64, 67, 0.3), 0px 1px 3px 1px rgba(60, 64, 67, 0.15);\n",
              "      fill: #174EA6;\n",
              "    }\n",
              "\n",
              "    [theme=dark] .colab-df-convert {\n",
              "      background-color: #3B4455;\n",
              "      fill: #D2E3FC;\n",
              "    }\n",
              "\n",
              "    [theme=dark] .colab-df-convert:hover {\n",
              "      background-color: #434B5C;\n",
              "      box-shadow: 0px 1px 3px 1px rgba(0, 0, 0, 0.15);\n",
              "      filter: drop-shadow(0px 1px 2px rgba(0, 0, 0, 0.3));\n",
              "      fill: #FFFFFF;\n",
              "    }\n",
              "  </style>\n",
              "\n",
              "      <script>\n",
              "        const buttonEl =\n",
              "          document.querySelector('#df-f35aceab-0efc-44d9-baa5-5bd91378452d button.colab-df-convert');\n",
              "        buttonEl.style.display =\n",
              "          google.colab.kernel.accessAllowed ? 'block' : 'none';\n",
              "\n",
              "        async function convertToInteractive(key) {\n",
              "          const element = document.querySelector('#df-f35aceab-0efc-44d9-baa5-5bd91378452d');\n",
              "          const dataTable =\n",
              "            await google.colab.kernel.invokeFunction('convertToInteractive',\n",
              "                                                     [key], {});\n",
              "          if (!dataTable) return;\n",
              "\n",
              "          const docLinkHtml = 'Like what you see? Visit the ' +\n",
              "            '<a target=\"_blank\" href=https://colab.research.google.com/notebooks/data_table.ipynb>data table notebook</a>'\n",
              "            + ' to learn more about interactive tables.';\n",
              "          element.innerHTML = '';\n",
              "          dataTable['output_type'] = 'display_data';\n",
              "          await google.colab.output.renderOutput(dataTable, element);\n",
              "          const docLink = document.createElement('div');\n",
              "          docLink.innerHTML = docLinkHtml;\n",
              "          element.appendChild(docLink);\n",
              "        }\n",
              "      </script>\n",
              "    </div>\n",
              "  </div>\n",
              "  "
            ]
          },
          "metadata": {},
          "execution_count": 26
        }
      ],
      "source": [
        "#changing 1 and 2 to 0 and 1...does this matter though?\n",
        "food_data['y'] = food_data['HRFS12CX'].apply(lambda x: 0 if 1 == x \n",
        "                                              else 1)\n",
        "response = pd.DataFrame(food_data.y.value_counts())\n",
        "response"
      ]
    },
    {
      "cell_type": "code",
      "source": [
        "print('Proportion of Food Insecure Houses:', (response.loc[1, 'y']/response.y.sum()))\n",
        "print('Proportion of Food Secure Houses:', (response.loc[0, 'y']/response.y.sum()), '\\n\\n')\n",
        "sns.barplot(response, x = response.index, y = 'y')"
      ],
      "metadata": {
        "colab": {
          "base_uri": "https://localhost:8080/",
          "height": 515
        },
        "id": "l1bQ2xtQXUsP",
        "outputId": "bf3ddc3d-468f-4a4e-8545-19fef38d5f5f"
      },
      "id": "l1bQ2xtQXUsP",
      "execution_count": 27,
      "outputs": [
        {
          "output_type": "stream",
          "name": "stdout",
          "text": [
            "Proportion of Food Insecure Houses: 0.17347238337550502\n",
            "Proportion of Food Secure Houses: 0.826527616624495 \n",
            "\n",
            "\n"
          ]
        },
        {
          "output_type": "execute_result",
          "data": {
            "text/plain": [
              "<Axes: ylabel='y'>"
            ]
          },
          "metadata": {},
          "execution_count": 27
        },
        {
          "output_type": "display_data",
          "data": {
            "text/plain": [
              "<Figure size 640x480 with 1 Axes>"
            ],
            "image/png": "[encoded data removed]"
          },
          "metadata": {}
        }
      ]
    },
    {
      "cell_type": "code",
      "execution_count": 34,
      "id": "609d5795",
      "metadata": {
        "colab": {
          "base_uri": "https://localhost:8080/"
        },
        "id": "609d5795",
        "outputId": "f7aae1cd-3b26-42e5-b591-6d3acb961dce"
      },
      "outputs": [
        {
          "output_type": "execute_result",
          "data": {
            "text/plain": [
              "(57226, 390)"
            ]
          },
          "metadata": {},
          "execution_count": 34
        }
      ],
      "source": [
        "#splitting the data\n",
        "y = food_data.y\n",
        "X = food_data.iloc[:, 0:391]\n",
        "X = X.drop('FILLER', axis = 1)\n",
        "\n",
        "X_train, X_test, y_train, y_test = train_test_split(X, y, test_size = 0.2, random_state = 45)\n",
        "X_train.shape"
      ]
    },
    {
      "cell_type": "code",
      "source": [
        "X_train"
      ],
      "metadata": {
        "colab": {
          "base_uri": "https://localhost:8080/",
          "height": 483
        },
        "id": "hH4-lMKH0xTW",
        "outputId": "65f49250-b914-4e26-a802-d0dc0990eb06"
      },
      "id": "hH4-lMKH0xTW",
      "execution_count": 35,
      "outputs": [
        {
          "output_type": "execute_result",
          "data": {
            "text/plain": [
              "                 HRHHID  HRMONTH  HRYEAR4  HURESPLI  HUFINAL  HETENURE  \\\n",
              "112251  507340501120403       12     2021         1      201         3   \n",
              "89743   578660581951003       12     2021         1      201         3   \n",
              "114059  967582201340105       12     2021         1      201         2   \n",
              "33973   410100031131678       12     2021         1      201         2   \n",
              "20904   219010610013449       12     2021         4      201         1   \n",
              "...                 ...      ...      ...       ...      ...       ...   \n",
              "18379   310946170108105       12     2021         1      201         3   \n",
              "94077   411809460586216       12     2021         1      201         1   \n",
              "8856     40710040307671       12     2021         1        1         2   \n",
              "98134    28720188901004       12     2021         1      201         1   \n",
              "9472     12076304105461       12     2021         2        1         1   \n",
              "\n",
              "        HEHOUSUT  HETELHHD  HETELAVL  HEPHONEO  ...  PEPDEMP1  PTNMEMP1  \\\n",
              "112251         1         1        -1         1  ...        -1        -1   \n",
              "89743          5         1        -1         1  ...        -1        -1   \n",
              "114059         5         1        -1         1  ...        -1        -1   \n",
              "33973          1         1        -1         1  ...        -1        -1   \n",
              "20904          1         1        -1         1  ...        -1        -1   \n",
              "...          ...       ...       ...       ...  ...       ...       ...   \n",
              "18379          1         1        -1         1  ...        -1        -1   \n",
              "94077          1         1        -1         1  ...        -1        -1   \n",
              "8856           1         1        -1         1  ...        -1        -1   \n",
              "98134          1         1        -1         1  ...        -1        -1   \n",
              "9472           1         1        -1         1  ...        -1        -1   \n",
              "\n",
              "        PEPDEMP2  PTNMEMP2  PECERT1  PECERT2  PECERT3  PXCERT1  PXCERT2  \\\n",
              "112251        -1        -1        2       -1       -1        0        0   \n",
              "89743         -1        -1        2       -1       -1        0        0   \n",
              "114059        -1        -1        2       -1       -1        0        0   \n",
              "33973         -1        -1        2       -1       -1       20        0   \n",
              "20904         -1        -1        2       -1       -1       20        0   \n",
              "...          ...       ...      ...      ...      ...      ...      ...   \n",
              "18379         -1        -1       -1       -1       -1       -1       -1   \n",
              "94077         -1        -1        2       -1       -1        0        0   \n",
              "8856          -1        -1       -1       -1       -1       -1       -1   \n",
              "98134         -1        -1        1        2        2        0        0   \n",
              "9472          -1        -1        2       -1       -1       20        0   \n",
              "\n",
              "        PXCERT3  \n",
              "112251        0  \n",
              "89743         0  \n",
              "114059        0  \n",
              "33973         0  \n",
              "20904         0  \n",
              "...         ...  \n",
              "18379        -1  \n",
              "94077         0  \n",
              "8856         -1  \n",
              "98134         0  \n",
              "9472          0  \n",
              "\n",
              "[57226 rows x 390 columns]"
            ],
            "text/html": [
              "\n",
              "  <div id=\"df-9b735667-1a36-4074-ba0a-800745d3f88c\">\n",
              "    <div class=\"colab-df-container\">\n",
              "      <div>\n",
              "<style scoped>\n",
              "    .dataframe tbody tr th:only-of-type {\n",
              "        vertical-align: middle;\n",
              "    }\n",
              "\n",
              "    .dataframe tbody tr th {\n",
              "        vertical-align: top;\n",
              "    }\n",
              "\n",
              "    .dataframe thead th {\n",
              "        text-align: right;\n",
              "    }\n",
              "</style>\n",
              "<table border=\"1\" class=\"dataframe\">\n",
              "  <thead>\n",
              "    <tr style=\"text-align: right;\">\n",
              "      <th></th>\n",
              "      <th>HRHHID</th>\n",
              "      <th>HRMONTH</th>\n",
              "      <th>HRYEAR4</th>\n",
              "      <th>HURESPLI</th>\n",
              "      <th>HUFINAL</th>\n",
              "      <th>HETENURE</th>\n",
              "      <th>HEHOUSUT</th>\n",
              "      <th>HETELHHD</th>\n",
              "      <th>HETELAVL</th>\n",
              "      <th>HEPHONEO</th>\n",
              "      <th>...</th>\n",
              "      <th>PEPDEMP1</th>\n",
              "      <th>PTNMEMP1</th>\n",
              "      <th>PEPDEMP2</th>\n",
              "      <th>PTNMEMP2</th>\n",
              "      <th>PECERT1</th>\n",
              "      <th>PECERT2</th>\n",
              "      <th>PECERT3</th>\n",
              "      <th>PXCERT1</th>\n",
              "      <th>PXCERT2</th>\n",
              "      <th>PXCERT3</th>\n",
              "    </tr>\n",
              "  </thead>\n",
              "  <tbody>\n",
              "    <tr>\n",
              "      <th>112251</th>\n",
              "      <td>507340501120403</td>\n",
              "      <td>12</td>\n",
              "      <td>2021</td>\n",
              "      <td>1</td>\n",
              "      <td>201</td>\n",
              "      <td>3</td>\n",
              "      <td>1</td>\n",
              "      <td>1</td>\n",
              "      <td>-1</td>\n",
              "      <td>1</td>\n",
              "      <td>...</td>\n",
              "      <td>-1</td>\n",
              "      <td>-1</td>\n",
              "      <td>-1</td>\n",
              "      <td>-1</td>\n",
              "      <td>2</td>\n",
              "      <td>-1</td>\n",
              "      <td>-1</td>\n",
              "      <td>0</td>\n",
              "      <td>0</td>\n",
              "      <td>0</td>\n",
              "    </tr>\n",
              "    <tr>\n",
              "      <th>89743</th>\n",
              "      <td>578660581951003</td>\n",
              "      <td>12</td>\n",
              "      <td>2021</td>\n",
              "      <td>1</td>\n",
              "      <td>201</td>\n",
              "      <td>3</td>\n",
              "      <td>5</td>\n",
              "      <td>1</td>\n",
              "      <td>-1</td>\n",
              "      <td>1</td>\n",
              "      <td>...</td>\n",
              "      <td>-1</td>\n",
              "      <td>-1</td>\n",
              "      <td>-1</td>\n",
              "      <td>-1</td>\n",
              "      <td>2</td>\n",
              "      <td>-1</td>\n",
              "      <td>-1</td>\n",
              "      <td>0</td>\n",
              "      <td>0</td>\n",
              "      <td>0</td>\n",
              "    </tr>\n",
              "    <tr>\n",
              "      <th>114059</th>\n",
              "      <td>967582201340105</td>\n",
              "      <td>12</td>\n",
              "      <td>2021</td>\n",
              "      <td>1</td>\n",
              "      <td>201</td>\n",
              "      <td>2</td>\n",
              "      <td>5</td>\n",
              "      <td>1</td>\n",
              "      <td>-1</td>\n",
              "      <td>1</td>\n",
              "      <td>...</td>\n",
              "      <td>-1</td>\n",
              "      <td>-1</td>\n",
              "      <td>-1</td>\n",
              "      <td>-1</td>\n",
              "      <td>2</td>\n",
              "      <td>-1</td>\n",
              "      <td>-1</td>\n",
              "      <td>0</td>\n",
              "      <td>0</td>\n",
              "      <td>0</td>\n",
              "    </tr>\n",
              "    <tr>\n",
              "      <th>33973</th>\n",
              "      <td>410100031131678</td>\n",
              "      <td>12</td>\n",
              "      <td>2021</td>\n",
              "      <td>1</td>\n",
              "      <td>201</td>\n",
              "      <td>2</td>\n",
              "      <td>1</td>\n",
              "      <td>1</td>\n",
              "      <td>-1</td>\n",
              "      <td>1</td>\n",
              "      <td>...</td>\n",
              "      <td>-1</td>\n",
              "      <td>-1</td>\n",
              "      <td>-1</td>\n",
              "      <td>-1</td>\n",
              "      <td>2</td>\n",
              "      <td>-1</td>\n",
              "      <td>-1</td>\n",
              "      <td>20</td>\n",
              "      <td>0</td>\n",
              "      <td>0</td>\n",
              "    </tr>\n",
              "    <tr>\n",
              "      <th>20904</th>\n",
              "      <td>219010610013449</td>\n",
              "      <td>12</td>\n",
              "      <td>2021</td>\n",
              "      <td>4</td>\n",
              "      <td>201</td>\n",
              "      <td>1</td>\n",
              "      <td>1</td>\n",
              "      <td>1</td>\n",
              "      <td>-1</td>\n",
              "      <td>1</td>\n",
              "      <td>...</td>\n",
              "      <td>-1</td>\n",
              "      <td>-1</td>\n",
              "      <td>-1</td>\n",
              "      <td>-1</td>\n",
              "      <td>2</td>\n",
              "      <td>-1</td>\n",
              "      <td>-1</td>\n",
              "      <td>20</td>\n",
              "      <td>0</td>\n",
              "      <td>0</td>\n",
              "    </tr>\n",
              "    <tr>\n",
              "      <th>...</th>\n",
              "      <td>...</td>\n",
              "      <td>...</td>\n",
              "      <td>...</td>\n",
              "      <td>...</td>\n",
              "      <td>...</td>\n",
              "      <td>...</td>\n",
              "      <td>...</td>\n",
              "      <td>...</td>\n",
              "      <td>...</td>\n",
              "      <td>...</td>\n",
              "      <td>...</td>\n",
              "      <td>...</td>\n",
              "      <td>...</td>\n",
              "      <td>...</td>\n",
              "      <td>...</td>\n",
              "      <td>...</td>\n",
              "      <td>...</td>\n",
              "      <td>...</td>\n",
              "      <td>...</td>\n",
              "      <td>...</td>\n",
              "      <td>...</td>\n",
              "    </tr>\n",
              "    <tr>\n",
              "      <th>18379</th>\n",
              "      <td>310946170108105</td>\n",
              "      <td>12</td>\n",
              "      <td>2021</td>\n",
              "      <td>1</td>\n",
              "      <td>201</td>\n",
              "      <td>3</td>\n",
              "      <td>1</td>\n",
              "      <td>1</td>\n",
              "      <td>-1</td>\n",
              "      <td>1</td>\n",
              "      <td>...</td>\n",
              "      <td>-1</td>\n",
              "      <td>-1</td>\n",
              "      <td>-1</td>\n",
              "      <td>-1</td>\n",
              "      <td>-1</td>\n",
              "      <td>-1</td>\n",
              "      <td>-1</td>\n",
              "      <td>-1</td>\n",
              "      <td>-1</td>\n",
              "      <td>-1</td>\n",
              "    </tr>\n",
              "    <tr>\n",
              "      <th>94077</th>\n",
              "      <td>411809460586216</td>\n",
              "      <td>12</td>\n",
              "      <td>2021</td>\n",
              "      <td>1</td>\n",
              "      <td>201</td>\n",
              "      <td>1</td>\n",
              "      <td>1</td>\n",
              "      <td>1</td>\n",
              "      <td>-1</td>\n",
              "      <td>1</td>\n",
              "      <td>...</td>\n",
              "      <td>-1</td>\n",
              "      <td>-1</td>\n",
              "      <td>-1</td>\n",
              "      <td>-1</td>\n",
              "      <td>2</td>\n",
              "      <td>-1</td>\n",
              "      <td>-1</td>\n",
              "      <td>0</td>\n",
              "      <td>0</td>\n",
              "      <td>0</td>\n",
              "    </tr>\n",
              "    <tr>\n",
              "      <th>8856</th>\n",
              "      <td>40710040307671</td>\n",
              "      <td>12</td>\n",
              "      <td>2021</td>\n",
              "      <td>1</td>\n",
              "      <td>1</td>\n",
              "      <td>2</td>\n",
              "      <td>1</td>\n",
              "      <td>1</td>\n",
              "      <td>-1</td>\n",
              "      <td>1</td>\n",
              "      <td>...</td>\n",
              "      <td>-1</td>\n",
              "      <td>-1</td>\n",
              "      <td>-1</td>\n",
              "      <td>-1</td>\n",
              "      <td>-1</td>\n",
              "      <td>-1</td>\n",
              "      <td>-1</td>\n",
              "      <td>-1</td>\n",
              "      <td>-1</td>\n",
              "      <td>-1</td>\n",
              "    </tr>\n",
              "    <tr>\n",
              "      <th>98134</th>\n",
              "      <td>28720188901004</td>\n",
              "      <td>12</td>\n",
              "      <td>2021</td>\n",
              "      <td>1</td>\n",
              "      <td>201</td>\n",
              "      <td>1</td>\n",
              "      <td>1</td>\n",
              "      <td>1</td>\n",
              "      <td>-1</td>\n",
              "      <td>1</td>\n",
              "      <td>...</td>\n",
              "      <td>-1</td>\n",
              "      <td>-1</td>\n",
              "      <td>-1</td>\n",
              "      <td>-1</td>\n",
              "      <td>1</td>\n",
              "      <td>2</td>\n",
              "      <td>2</td>\n",
              "      <td>0</td>\n",
              "      <td>0</td>\n",
              "      <td>0</td>\n",
              "    </tr>\n",
              "    <tr>\n",
              "      <th>9472</th>\n",
              "      <td>12076304105461</td>\n",
              "      <td>12</td>\n",
              "      <td>2021</td>\n",
              "      <td>2</td>\n",
              "      <td>1</td>\n",
              "      <td>1</td>\n",
              "      <td>1</td>\n",
              "      <td>1</td>\n",
              "      <td>-1</td>\n",
              "      <td>1</td>\n",
              "      <td>...</td>\n",
              "      <td>-1</td>\n",
              "      <td>-1</td>\n",
              "      <td>-1</td>\n",
              "      <td>-1</td>\n",
              "      <td>2</td>\n",
              "      <td>-1</td>\n",
              "      <td>-1</td>\n",
              "      <td>20</td>\n",
              "      <td>0</td>\n",
              "      <td>0</td>\n",
              "    </tr>\n",
              "  </tbody>\n",
              "</table>\n",
              "<p>57226 rows × 390 columns</p>\n",
              "</div>\n",
              "      <button class=\"colab-df-convert\" onclick=\"convertToInteractive('df-9b735667-1a36-4074-ba0a-800745d3f88c')\"\n",
              "              title=\"Convert this dataframe to an interactive table.\"\n",
              "              style=\"display:none;\">\n",
              "        \n",
              "  <svg xmlns=\"http://www.w3.org/2000/svg\" height=\"24px\"viewBox=\"0 0 24 24\"\n",
              "       width=\"24px\">\n",
              "    <path d=\"M0 0h24v24H0V0z\" fill=\"none\"/>\n",
              "    <path d=\"M18.56 5.44l.94 2.06.94-2.06 2.06-.94-2.06-.94-.94-2.06-.94 2.06-2.06.94zm-11 1L8.5 8.5l.94-2.06 2.06-.94-2.06-.94L8.5 2.5l-.94 2.06-2.06.94zm10 10l.94 2.06.94-2.06 2.06-.94-2.06-.94-.94-2.06-.94 2.06-2.06.94z\"/><path d=\"M17.41 7.96l-1.37-1.37c-.4-.4-.92-.59-1.43-.59-.52 0-1.04.2-1.43.59L10.3 9.45l-7.72 7.72c-.78.78-.78 2.05 0 2.83L4 21.41c.39.39.9.59 1.41.59.51 0 1.02-.2 1.41-.59l7.78-7.78 2.81-2.81c.8-.78.8-2.07 0-2.86zM5.41 20L4 18.59l7.72-7.72 1.47 1.35L5.41 20z\"/>\n",
              "  </svg>\n",
              "      </button>\n",
              "      \n",
              "  <style>\n",
              "    .colab-df-container {\n",
              "      display:flex;\n",
              "      flex-wrap:wrap;\n",
              "      gap: 12px;\n",
              "    }\n",
              "\n",
              "    .colab-df-convert {\n",
              "      background-color: #E8F0FE;\n",
              "      border: none;\n",
              "      border-radius: 50%;\n",
              "      cursor: pointer;\n",
              "      display: none;\n",
              "      fill: #1967D2;\n",
              "      height: 32px;\n",
              "      padding: 0 0 0 0;\n",
              "      width: 32px;\n",
              "    }\n",
              "\n",
              "    .colab-df-convert:hover {\n",
              "      background-color: #E2EBFA;\n",
              "      box-shadow: 0px 1px 2px rgba(60, 64, 67, 0.3), 0px 1px 3px 1px rgba(60, 64, 67, 0.15);\n",
              "      fill: #174EA6;\n",
              "    }\n",
              "\n",
              "    [theme=dark] .colab-df-convert {\n",
              "      background-color: #3B4455;\n",
              "      fill: #D2E3FC;\n",
              "    }\n",
              "\n",
              "    [theme=dark] .colab-df-convert:hover {\n",
              "      background-color: #434B5C;\n",
              "      box-shadow: 0px 1px 3px 1px rgba(0, 0, 0, 0.15);\n",
              "      filter: drop-shadow(0px 1px 2px rgba(0, 0, 0, 0.3));\n",
              "      fill: #FFFFFF;\n",
              "    }\n",
              "  </style>\n",
              "\n",
              "      <script>\n",
              "        const buttonEl =\n",
              "          document.querySelector('#df-9b735667-1a36-4074-ba0a-800745d3f88c button.colab-df-convert');\n",
              "        buttonEl.style.display =\n",
              "          google.colab.kernel.accessAllowed ? 'block' : 'none';\n",
              "\n",
              "        async function convertToInteractive(key) {\n",
              "          const element = document.querySelector('#df-9b735667-1a36-4074-ba0a-800745d3f88c');\n",
              "          const dataTable =\n",
              "            await google.colab.kernel.invokeFunction('convertToInteractive',\n",
              "                                                     [key], {});\n",
              "          if (!dataTable) return;\n",
              "\n",
              "          const docLinkHtml = 'Like what you see? Visit the ' +\n",
              "            '<a target=\"_blank\" href=https://colab.research.google.com/notebooks/data_table.ipynb>data table notebook</a>'\n",
              "            + ' to learn more about interactive tables.';\n",
              "          element.innerHTML = '';\n",
              "          dataTable['output_type'] = 'display_data';\n",
              "          await google.colab.output.renderOutput(dataTable, element);\n",
              "          const docLink = document.createElement('div');\n",
              "          docLink.innerHTML = docLinkHtml;\n",
              "          element.appendChild(docLink);\n",
              "        }\n",
              "      </script>\n",
              "    </div>\n",
              "  </div>\n",
              "  "
            ]
          },
          "metadata": {},
          "execution_count": 35
        }
      ]
    },
    {
      "cell_type": "code",
      "execution_count": 36,
      "id": "5d01efe9",
      "metadata": {
        "id": "5d01efe9"
      },
      "outputs": [],
      "source": [
        "train = pd.concat([X_train,y_train], axis=1)"
      ]
    },
    {
      "cell_type": "markdown",
      "id": "3dcabf3e",
      "metadata": {
        "id": "3dcabf3e"
      },
      "source": [
        "# EDA"
      ]
    },
    {
      "cell_type": "code",
      "execution_count": 41,
      "id": "5cf07cf9",
      "metadata": {
        "id": "5cf07cf9",
        "outputId": "7767b23c-31a9-4a47-8f48-627dfdde0af7",
        "colab": {
          "base_uri": "https://localhost:8080/"
        }
      },
      "outputs": [
        {
          "output_type": "execute_result",
          "data": {
            "text/plain": [
              "HETENURE    0.216970\n",
              "PUDIS       0.111398\n",
              "HRHTYPE     0.107549\n",
              "HEHOUSUT    0.102784\n",
              "PUIOCK1    -0.100104\n",
              "PUHRCK6    -0.100410\n",
              "PXHRAVL    -0.100635\n",
              "PUHRCK5    -0.100999\n",
              "PUHRCK2    -0.101102\n",
              "PUHRCK3    -0.102738\n",
              "PUHROT1    -0.103298\n",
              "PUHRCK7    -0.104051\n",
              "PEHRUSLT   -0.104335\n",
              "PUHROFF1   -0.104630\n",
              "PRHRUSL    -0.105502\n",
              "PEHRUSL1   -0.106332\n",
              "PREMPHRS   -0.107232\n",
              "PEHRACTT   -0.107996\n",
              "PEHRACT1   -0.110675\n",
              "PEHSPNON   -0.124105\n",
              "PESPOUSE   -0.127085\n",
              "HEFAMINC   -0.382239\n",
              "dtype: float64"
            ]
          },
          "metadata": {},
          "execution_count": 41
        }
      ],
      "source": [
        "corr = food_data.iloc[:, 0:391].corrwith(food_data.y).sort_values(ascending = False)\n",
        "corr[abs(corr)>0.1]"
      ]
    },
    {
      "cell_type": "code",
      "source": [
        "corr[corr.isna()]"
      ],
      "metadata": {
        "colab": {
          "base_uri": "https://localhost:8080/"
        },
        "id": "KXvRfV5DS0e7",
        "outputId": "641e5b0c-8445-4a23-8c49-f40ace8f8ff3"
      },
      "id": "KXvRfV5DS0e7",
      "execution_count": 42,
      "outputs": [
        {
          "output_type": "execute_result",
          "data": {
            "text/plain": [
              "HRMONTH    NaN\n",
              "HRYEAR4    NaN\n",
              "FILLER     NaN\n",
              "HUTYPEA    NaN\n",
              "HUTYPC     NaN\n",
              "HRINTSTA   NaN\n",
              "HUBUSL4    NaN\n",
              "PULKDK4    NaN\n",
              "PULKDK5    NaN\n",
              "PULKDK6    NaN\n",
              "PULKPS3    NaN\n",
              "PULKPS4    NaN\n",
              "PULKPS5    NaN\n",
              "PULKPS6    NaN\n",
              "HXPHONEO   NaN\n",
              "dtype: float64"
            ]
          },
          "metadata": {},
          "execution_count": 42
        }
      ]
    },
    {
      "cell_type": "markdown",
      "id": "51abd705",
      "metadata": {
        "id": "51abd705"
      },
      "source": [
        "**The highest correlated survey questions include:** <br>\n",
        "Positively:<br>\n",
        "- HES9: In the last 12 months, since\n",
        "December of last year, did you ever run short\n",
        "of money and try to make your food or your\n",
        "food money go further? <br>\n",
        "- HRPOOR:  Recoded from HEFAMINC (1: Below 185% poverty\n",
        "2: Above 185% poverty or income not reported) <br>\n",
        "- HEFAMINC: COMBINED INCOME OF ALL FAMILY MEMBERS\n",
        " DURING THE LAST 12 MONTHS[...] WHO ARE 15 YEARS OF AGE OR OLDER. (Higher Encoded: More Money) <br>\n",
        "-HES8B: In order to buy just enough food to meet 1034 -1035\n",
        "(your needs/the needs of your household),\n",
        "would you need to spend more than you do\n",
        "now, or could you spend less? (1: More, 2: Less)\n",
        "- HETS8DO: Out variable that represents how much LESS 1039 -1041\n",
        "could be spent each week and still buy just\n",
        "enough food to meet household needs.\n",
        "Created from HUS8D, HUS8DCKA, HUS8DCKB,\n",
        "or HUS8DCOR. Top code 200\n",
        "\n",
        "Negatively:<br>\n",
        "- HESS1       0.712532 <br>\n",
        "- HESH4       0.640454<br>\n",
        "- HESH5       0.637635<br>\n",
        "- HESH2       0.636681<br>\n",
        "- HESH3       0.627601<br>"
      ]
    },
    {
      "cell_type": "code",
      "execution_count": 32,
      "id": "fad0bca4",
      "metadata": {
        "id": "fad0bca4",
        "outputId": "49ccd64e-0fe7-44bb-83bc-3138c07b877e",
        "colab": {
          "base_uri": "https://localhost:8080/"
        }
      },
      "outputs": [
        {
          "output_type": "execute_result",
          "data": {
            "text/plain": [
              "array([[1.        , 0.47499814],\n",
              "       [0.47499814, 1.        ]])"
            ]
          },
          "metadata": {},
          "execution_count": 32
        }
      ],
      "source": [
        "np.corrcoef(food_data.HRPOOR, food_data.y)"
      ]
    },
    {
      "cell_type": "code",
      "execution_count": 34,
      "id": "f55c7436",
      "metadata": {
        "id": "f55c7436",
        "outputId": "9cccb53b-bd2e-44f4-df47-54e19a55fa81",
        "colab": {
          "base_uri": "https://localhost:8080/",
          "height": 466
        }
      },
      "outputs": [
        {
          "output_type": "execute_result",
          "data": {
            "text/plain": [
              "<Axes: xlabel='HRPOOR', ylabel='y'>"
            ]
          },
          "metadata": {},
          "execution_count": 34
        },
        {
          "output_type": "display_data",
          "data": {
            "text/plain": [
              "<Figure size 640x480 with 1 Axes>"
            ],
            "image/png": "[encoded data removed]"
          },
          "metadata": {}
        }
      ],
      "source": [
        "sns.barplot(data = food_data, x = food_data.HRPOOR, y = food_data.y, errorbar = None)"
      ]
    },
    {
      "cell_type": "code",
      "execution_count": null,
      "id": "ea3796c9",
      "metadata": {
        "id": "ea3796c9",
        "outputId": "52cf75e8-fa99-4c62-dc3a-0dad8ab87c29"
      },
      "outputs": [
        {
          "data": {
            "text/plain": [
              "<AxesSubplot:>"
            ]
          },
          "execution_count": 131,
          "metadata": {},
          "output_type": "execute_result"
        },
        {
          "data": {
            "image/png": "[encoded data removed]",
            "text/plain": [
              "<Figure size 432x288 with 2 Axes>"
            ]
          },
          "metadata": {
            "needs_background": "light"
          },
          "output_type": "display_data"
        }
      ],
      "source": [
        "sns.heatmap(food_data.corr())"
      ]
    },
    {
      "cell_type": "markdown",
      "id": "8e06474d",
      "metadata": {
        "id": "8e06474d"
      },
      "source": [
        "# performing variable selection"
      ]
    },
    {
      "cell_type": "markdown",
      "id": "be5c4d59",
      "metadata": {
        "id": "be5c4d59"
      },
      "source": [
        "basic random forest model"
      ]
    },
    {
      "cell_type": "code",
      "execution_count": 43,
      "id": "f172008a",
      "metadata": {
        "id": "f172008a"
      },
      "outputs": [],
      "source": [
        "from sklearn.tree import DecisionTreeRegressor,DecisionTreeClassifier\n",
        "from sklearn.ensemble import BaggingRegressor,BaggingClassifier,RandomForestRegressor,RandomForestClassifier\n",
        "\n",
        "model = RandomForestClassifier(n_jobs=-1).fit(X_train, y_train)"
      ]
    },
    {
      "cell_type": "code",
      "source": [
        "importances = np.mean([tree.feature_importances_ for tree in model.estimators_], axis=0)\n",
        "importances = pd.DataFrame(importances)"
      ],
      "metadata": {
        "id": "qHbyFBDMUZX6"
      },
      "id": "qHbyFBDMUZX6",
      "execution_count": 44,
      "outputs": []
    },
    {
      "cell_type": "code",
      "source": [
        "df = pd.concat([pd.DataFrame(model.feature_names_in_, columns = ['Predictors']), importances], axis = 1)\n",
        "df = df.rename(columns = {0: 'Importances'})\n",
        "df = df[df.Importances > 0.000000000000]\n",
        "df.set_index('Predictors').sort_values(by = 'Importances', ascending = False)"
      ],
      "metadata": {
        "colab": {
          "base_uri": "https://localhost:8080/",
          "height": 450
        },
        "id": "pZfLIp9aUa9w",
        "outputId": "440b7af7-97bd-44d5-beab-72d1eb8f866e"
      },
      "id": "pZfLIp9aUa9w",
      "execution_count": 45,
      "outputs": [
        {
          "output_type": "execute_result",
          "data": {
            "text/plain": [
              "             Importances\n",
              "Predictors              \n",
              "HEFAMINC    8.729361e-02\n",
              "QSTNUM      2.876774e-02\n",
              "HRHHID      2.841662e-02\n",
              "HWHHWGT     2.655451e-02\n",
              "PWFMWGT     2.470734e-02\n",
              "...                  ...\n",
              "PEAFWHN4    2.219459e-06\n",
              "PULKDK2     1.866884e-06\n",
              "PTOT        1.014999e-06\n",
              "PTERN2      4.870061e-07\n",
              "HUTYPB      8.711871e-09\n",
              "\n",
              "[375 rows x 1 columns]"
            ],
            "text/html": [
              "\n",
              "  <div id=\"df-1a8c942f-037d-4001-8587-524ee975c9b1\">\n",
              "    <div class=\"colab-df-container\">\n",
              "      <div>\n",
              "<style scoped>\n",
              "    .dataframe tbody tr th:only-of-type {\n",
              "        vertical-align: middle;\n",
              "    }\n",
              "\n",
              "    .dataframe tbody tr th {\n",
              "        vertical-align: top;\n",
              "    }\n",
              "\n",
              "    .dataframe thead th {\n",
              "        text-align: right;\n",
              "    }\n",
              "</style>\n",
              "<table border=\"1\" class=\"dataframe\">\n",
              "  <thead>\n",
              "    <tr style=\"text-align: right;\">\n",
              "      <th></th>\n",
              "      <th>Importances</th>\n",
              "    </tr>\n",
              "    <tr>\n",
              "      <th>Predictors</th>\n",
              "      <th></th>\n",
              "    </tr>\n",
              "  </thead>\n",
              "  <tbody>\n",
              "    <tr>\n",
              "      <th>HEFAMINC</th>\n",
              "      <td>8.729361e-02</td>\n",
              "    </tr>\n",
              "    <tr>\n",
              "      <th>QSTNUM</th>\n",
              "      <td>2.876774e-02</td>\n",
              "    </tr>\n",
              "    <tr>\n",
              "      <th>HRHHID</th>\n",
              "      <td>2.841662e-02</td>\n",
              "    </tr>\n",
              "    <tr>\n",
              "      <th>HWHHWGT</th>\n",
              "      <td>2.655451e-02</td>\n",
              "    </tr>\n",
              "    <tr>\n",
              "      <th>PWFMWGT</th>\n",
              "      <td>2.470734e-02</td>\n",
              "    </tr>\n",
              "    <tr>\n",
              "      <th>...</th>\n",
              "      <td>...</td>\n",
              "    </tr>\n",
              "    <tr>\n",
              "      <th>PEAFWHN4</th>\n",
              "      <td>2.219459e-06</td>\n",
              "    </tr>\n",
              "    <tr>\n",
              "      <th>PULKDK2</th>\n",
              "      <td>1.866884e-06</td>\n",
              "    </tr>\n",
              "    <tr>\n",
              "      <th>PTOT</th>\n",
              "      <td>1.014999e-06</td>\n",
              "    </tr>\n",
              "    <tr>\n",
              "      <th>PTERN2</th>\n",
              "      <td>4.870061e-07</td>\n",
              "    </tr>\n",
              "    <tr>\n",
              "      <th>HUTYPB</th>\n",
              "      <td>8.711871e-09</td>\n",
              "    </tr>\n",
              "  </tbody>\n",
              "</table>\n",
              "<p>375 rows × 1 columns</p>\n",
              "</div>\n",
              "      <button class=\"colab-df-convert\" onclick=\"convertToInteractive('df-1a8c942f-037d-4001-8587-524ee975c9b1')\"\n",
              "              title=\"Convert this dataframe to an interactive table.\"\n",
              "              style=\"display:none;\">\n",
              "        \n",
              "  <svg xmlns=\"http://www.w3.org/2000/svg\" height=\"24px\"viewBox=\"0 0 24 24\"\n",
              "       width=\"24px\">\n",
              "    <path d=\"M0 0h24v24H0V0z\" fill=\"none\"/>\n",
              "    <path d=\"M18.56 5.44l.94 2.06.94-2.06 2.06-.94-2.06-.94-.94-2.06-.94 2.06-2.06.94zm-11 1L8.5 8.5l.94-2.06 2.06-.94-2.06-.94L8.5 2.5l-.94 2.06-2.06.94zm10 10l.94 2.06.94-2.06 2.06-.94-2.06-.94-.94-2.06-.94 2.06-2.06.94z\"/><path d=\"M17.41 7.96l-1.37-1.37c-.4-.4-.92-.59-1.43-.59-.52 0-1.04.2-1.43.59L10.3 9.45l-7.72 7.72c-.78.78-.78 2.05 0 2.83L4 21.41c.39.39.9.59 1.41.59.51 0 1.02-.2 1.41-.59l7.78-7.78 2.81-2.81c.8-.78.8-2.07 0-2.86zM5.41 20L4 18.59l7.72-7.72 1.47 1.35L5.41 20z\"/>\n",
              "  </svg>\n",
              "      </button>\n",
              "      \n",
              "  <style>\n",
              "    .colab-df-container {\n",
              "      display:flex;\n",
              "      flex-wrap:wrap;\n",
              "      gap: 12px;\n",
              "    }\n",
              "\n",
              "    .colab-df-convert {\n",
              "      background-color: #E8F0FE;\n",
              "      border: none;\n",
              "      border-radius: 50%;\n",
              "      cursor: pointer;\n",
              "      display: none;\n",
              "      fill: #1967D2;\n",
              "      height: 32px;\n",
              "      padding: 0 0 0 0;\n",
              "      width: 32px;\n",
              "    }\n",
              "\n",
              "    .colab-df-convert:hover {\n",
              "      background-color: #E2EBFA;\n",
              "      box-shadow: 0px 1px 2px rgba(60, 64, 67, 0.3), 0px 1px 3px 1px rgba(60, 64, 67, 0.15);\n",
              "      fill: #174EA6;\n",
              "    }\n",
              "\n",
              "    [theme=dark] .colab-df-convert {\n",
              "      background-color: #3B4455;\n",
              "      fill: #D2E3FC;\n",
              "    }\n",
              "\n",
              "    [theme=dark] .colab-df-convert:hover {\n",
              "      background-color: #434B5C;\n",
              "      box-shadow: 0px 1px 3px 1px rgba(0, 0, 0, 0.15);\n",
              "      filter: drop-shadow(0px 1px 2px rgba(0, 0, 0, 0.3));\n",
              "      fill: #FFFFFF;\n",
              "    }\n",
              "  </style>\n",
              "\n",
              "      <script>\n",
              "        const buttonEl =\n",
              "          document.querySelector('#df-1a8c942f-037d-4001-8587-524ee975c9b1 button.colab-df-convert');\n",
              "        buttonEl.style.display =\n",
              "          google.colab.kernel.accessAllowed ? 'block' : 'none';\n",
              "\n",
              "        async function convertToInteractive(key) {\n",
              "          const element = document.querySelector('#df-1a8c942f-037d-4001-8587-524ee975c9b1');\n",
              "          const dataTable =\n",
              "            await google.colab.kernel.invokeFunction('convertToInteractive',\n",
              "                                                     [key], {});\n",
              "          if (!dataTable) return;\n",
              "\n",
              "          const docLinkHtml = 'Like what you see? Visit the ' +\n",
              "            '<a target=\"_blank\" href=https://colab.research.google.com/notebooks/data_table.ipynb>data table notebook</a>'\n",
              "            + ' to learn more about interactive tables.';\n",
              "          element.innerHTML = '';\n",
              "          dataTable['output_type'] = 'display_data';\n",
              "          await google.colab.output.renderOutput(dataTable, element);\n",
              "          const docLink = document.createElement('div');\n",
              "          docLink.innerHTML = docLinkHtml;\n",
              "          element.appendChild(docLink);\n",
              "        }\n",
              "      </script>\n",
              "    </div>\n",
              "  </div>\n",
              "  "
            ]
          },
          "metadata": {},
          "execution_count": 45
        }
      ]
    },
    {
      "cell_type": "code",
      "source": [
        "print('Minimum Importance:',  df.Importances.min())\n",
        "print('Maximum Importance:', df.Importances.max())"
      ],
      "metadata": {
        "colab": {
          "base_uri": "https://localhost:8080/"
        },
        "id": "Sh3fcENOU7W8",
        "outputId": "9a7f70d6-e48e-41c9-9bba-4db8996a689b"
      },
      "id": "Sh3fcENOU7W8",
      "execution_count": 46,
      "outputs": [
        {
          "output_type": "stream",
          "name": "stdout",
          "text": [
            "Minimum Importance: 8.711870964163109e-09\n",
            "Maximum Importance: 0.08729360802874236\n"
          ]
        }
      ]
    },
    {
      "cell_type": "code",
      "source": [
        "for importance in [10**-9, 10**-6, 10**-5, 10**-4, 10**-3, 10**-2]:\n",
        "  print(importance)"
      ],
      "metadata": {
        "colab": {
          "base_uri": "https://localhost:8080/"
        },
        "id": "PBNMu6xyVzA2",
        "outputId": "d9f1c585-f156-424b-d4ef-e6f6afc97be3"
      },
      "id": "PBNMu6xyVzA2",
      "execution_count": 47,
      "outputs": [
        {
          "output_type": "stream",
          "name": "stdout",
          "text": [
            "1e-09\n",
            "1e-06\n",
            "1e-05\n",
            "0.0001\n",
            "0.001\n",
            "0.01\n"
          ]
        }
      ]
    },
    {
      "cell_type": "code",
      "source": [
        "df[df.Importances > 0.001]"
      ],
      "metadata": {
        "colab": {
          "base_uri": "https://localhost:8080/",
          "height": 419
        },
        "id": "yuXtgm6OXs0b",
        "outputId": "68ba8c43-36b8-4e8d-8813-18afac62782f"
      },
      "id": "yuXtgm6OXs0b",
      "execution_count": 48,
      "outputs": [
        {
          "output_type": "execute_result",
          "data": {
            "text/plain": [
              "    Predictors  Importances\n",
              "0       HRHHID     0.028417\n",
              "3     HURESPLI     0.006569\n",
              "4      HUFINAL     0.002814\n",
              "5     HETENURE     0.018152\n",
              "6     HEHOUSUT     0.005912\n",
              "..         ...          ...\n",
              "384    PECERT1     0.001528\n",
              "385    PECERT2     0.001861\n",
              "386    PECERT3     0.001428\n",
              "387    PXCERT1     0.002607\n",
              "388    PXCERT2     0.001379\n",
              "\n",
              "[164 rows x 2 columns]"
            ],
            "text/html": [
              "\n",
              "  <div id=\"df-0f83fd88-2a9b-426f-9de1-ee73d69f881f\">\n",
              "    <div class=\"colab-df-container\">\n",
              "      <div>\n",
              "<style scoped>\n",
              "    .dataframe tbody tr th:only-of-type {\n",
              "        vertical-align: middle;\n",
              "    }\n",
              "\n",
              "    .dataframe tbody tr th {\n",
              "        vertical-align: top;\n",
              "    }\n",
              "\n",
              "    .dataframe thead th {\n",
              "        text-align: right;\n",
              "    }\n",
              "</style>\n",
              "<table border=\"1\" class=\"dataframe\">\n",
              "  <thead>\n",
              "    <tr style=\"text-align: right;\">\n",
              "      <th></th>\n",
              "      <th>Predictors</th>\n",
              "      <th>Importances</th>\n",
              "    </tr>\n",
              "  </thead>\n",
              "  <tbody>\n",
              "    <tr>\n",
              "      <th>0</th>\n",
              "      <td>HRHHID</td>\n",
              "      <td>0.028417</td>\n",
              "    </tr>\n",
              "    <tr>\n",
              "      <th>3</th>\n",
              "      <td>HURESPLI</td>\n",
              "      <td>0.006569</td>\n",
              "    </tr>\n",
              "    <tr>\n",
              "      <th>4</th>\n",
              "      <td>HUFINAL</td>\n",
              "      <td>0.002814</td>\n",
              "    </tr>\n",
              "    <tr>\n",
              "      <th>5</th>\n",
              "      <td>HETENURE</td>\n",
              "      <td>0.018152</td>\n",
              "    </tr>\n",
              "    <tr>\n",
              "      <th>6</th>\n",
              "      <td>HEHOUSUT</td>\n",
              "      <td>0.005912</td>\n",
              "    </tr>\n",
              "    <tr>\n",
              "      <th>...</th>\n",
              "      <td>...</td>\n",
              "      <td>...</td>\n",
              "    </tr>\n",
              "    <tr>\n",
              "      <th>384</th>\n",
              "      <td>PECERT1</td>\n",
              "      <td>0.001528</td>\n",
              "    </tr>\n",
              "    <tr>\n",
              "      <th>385</th>\n",
              "      <td>PECERT2</td>\n",
              "      <td>0.001861</td>\n",
              "    </tr>\n",
              "    <tr>\n",
              "      <th>386</th>\n",
              "      <td>PECERT3</td>\n",
              "      <td>0.001428</td>\n",
              "    </tr>\n",
              "    <tr>\n",
              "      <th>387</th>\n",
              "      <td>PXCERT1</td>\n",
              "      <td>0.002607</td>\n",
              "    </tr>\n",
              "    <tr>\n",
              "      <th>388</th>\n",
              "      <td>PXCERT2</td>\n",
              "      <td>0.001379</td>\n",
              "    </tr>\n",
              "  </tbody>\n",
              "</table>\n",
              "<p>164 rows × 2 columns</p>\n",
              "</div>\n",
              "      <button class=\"colab-df-convert\" onclick=\"convertToInteractive('df-0f83fd88-2a9b-426f-9de1-ee73d69f881f')\"\n",
              "              title=\"Convert this dataframe to an interactive table.\"\n",
              "              style=\"display:none;\">\n",
              "        \n",
              "  <svg xmlns=\"http://www.w3.org/2000/svg\" height=\"24px\"viewBox=\"0 0 24 24\"\n",
              "       width=\"24px\">\n",
              "    <path d=\"M0 0h24v24H0V0z\" fill=\"none\"/>\n",
              "    <path d=\"M18.56 5.44l.94 2.06.94-2.06 2.06-.94-2.06-.94-.94-2.06-.94 2.06-2.06.94zm-11 1L8.5 8.5l.94-2.06 2.06-.94-2.06-.94L8.5 2.5l-.94 2.06-2.06.94zm10 10l.94 2.06.94-2.06 2.06-.94-2.06-.94-.94-2.06-.94 2.06-2.06.94z\"/><path d=\"M17.41 7.96l-1.37-1.37c-.4-.4-.92-.59-1.43-.59-.52 0-1.04.2-1.43.59L10.3 9.45l-7.72 7.72c-.78.78-.78 2.05 0 2.83L4 21.41c.39.39.9.59 1.41.59.51 0 1.02-.2 1.41-.59l7.78-7.78 2.81-2.81c.8-.78.8-2.07 0-2.86zM5.41 20L4 18.59l7.72-7.72 1.47 1.35L5.41 20z\"/>\n",
              "  </svg>\n",
              "      </button>\n",
              "      \n",
              "  <style>\n",
              "    .colab-df-container {\n",
              "      display:flex;\n",
              "      flex-wrap:wrap;\n",
              "      gap: 12px;\n",
              "    }\n",
              "\n",
              "    .colab-df-convert {\n",
              "      background-color: #E8F0FE;\n",
              "      border: none;\n",
              "      border-radius: 50%;\n",
              "      cursor: pointer;\n",
              "      display: none;\n",
              "      fill: #1967D2;\n",
              "      height: 32px;\n",
              "      padding: 0 0 0 0;\n",
              "      width: 32px;\n",
              "    }\n",
              "\n",
              "    .colab-df-convert:hover {\n",
              "      background-color: #E2EBFA;\n",
              "      box-shadow: 0px 1px 2px rgba(60, 64, 67, 0.3), 0px 1px 3px 1px rgba(60, 64, 67, 0.15);\n",
              "      fill: #174EA6;\n",
              "    }\n",
              "\n",
              "    [theme=dark] .colab-df-convert {\n",
              "      background-color: #3B4455;\n",
              "      fill: #D2E3FC;\n",
              "    }\n",
              "\n",
              "    [theme=dark] .colab-df-convert:hover {\n",
              "      background-color: #434B5C;\n",
              "      box-shadow: 0px 1px 3px 1px rgba(0, 0, 0, 0.15);\n",
              "      filter: drop-shadow(0px 1px 2px rgba(0, 0, 0, 0.3));\n",
              "      fill: #FFFFFF;\n",
              "    }\n",
              "  </style>\n",
              "\n",
              "      <script>\n",
              "        const buttonEl =\n",
              "          document.querySelector('#df-0f83fd88-2a9b-426f-9de1-ee73d69f881f button.colab-df-convert');\n",
              "        buttonEl.style.display =\n",
              "          google.colab.kernel.accessAllowed ? 'block' : 'none';\n",
              "\n",
              "        async function convertToInteractive(key) {\n",
              "          const element = document.querySelector('#df-0f83fd88-2a9b-426f-9de1-ee73d69f881f');\n",
              "          const dataTable =\n",
              "            await google.colab.kernel.invokeFunction('convertToInteractive',\n",
              "                                                     [key], {});\n",
              "          if (!dataTable) return;\n",
              "\n",
              "          const docLinkHtml = 'Like what you see? Visit the ' +\n",
              "            '<a target=\"_blank\" href=https://colab.research.google.com/notebooks/data_table.ipynb>data table notebook</a>'\n",
              "            + ' to learn more about interactive tables.';\n",
              "          element.innerHTML = '';\n",
              "          dataTable['output_type'] = 'display_data';\n",
              "          await google.colab.output.renderOutput(dataTable, element);\n",
              "          const docLink = document.createElement('div');\n",
              "          docLink.innerHTML = docLinkHtml;\n",
              "          element.appendChild(docLink);\n",
              "        }\n",
              "      </script>\n",
              "    </div>\n",
              "  </div>\n",
              "  "
            ]
          },
          "metadata": {},
          "execution_count": 48
        }
      ]
    },
    {
      "cell_type": "code",
      "source": [
        "train.loc[:, (df[df.Importances > 0.001]).Predictors.to_list() + ['y']]"
      ],
      "metadata": {
        "colab": {
          "base_uri": "https://localhost:8080/",
          "height": 483
        },
        "id": "7Cd7x66AW4F2",
        "outputId": "aca28fd7-a21e-41ba-bb00-b496809a7426"
      },
      "id": "7Cd7x66AW4F2",
      "execution_count": 49,
      "outputs": [
        {
          "output_type": "execute_result",
          "data": {
            "text/plain": [
              "                 HRHHID  HURESPLI  HUFINAL  HETENURE  HEHOUSUT  HETELHHD  \\\n",
              "112251  507340501120403         1      201         3         1         1   \n",
              "89743   578660581951003         1      201         3         5         1   \n",
              "114059  967582201340105         1      201         2         5         1   \n",
              "33973   410100031131678         1      201         2         1         1   \n",
              "20904   219010610013449         4      201         1         1         1   \n",
              "...                 ...       ...      ...       ...       ...       ...   \n",
              "18379   310946170108105         1      201         3         1         1   \n",
              "94077   411809460586216         1      201         1         1         1   \n",
              "8856     40710040307671         1        1         2         1         1   \n",
              "98134    28720188901004         1      201         1         1         1   \n",
              "9472     12076304105461         2        1         1         1         1   \n",
              "\n",
              "        HETELAVL  HEPHONEO  HEFAMINC   HWHHWGT  ...  PEDISOUT  PRDISFLG  \\\n",
              "112251        -1         1        13  34491316  ...         2         2   \n",
              "89743         -1         1         3  12853838  ...         2         2   \n",
              "114059        -1         1        10  37756466  ...         2         2   \n",
              "33973         -1         1        16  40579130  ...         2         2   \n",
              "20904         -1         1        16  45467838  ...         2         2   \n",
              "...          ...       ...       ...       ...  ...       ...       ...   \n",
              "18379         -1         1        13  21372705  ...        -1        -1   \n",
              "94077         -1         1        11  33387906  ...         2         2   \n",
              "8856          -1         1         1  40151439  ...        -1        -1   \n",
              "98134         -1         1        15  28083647  ...         2         2   \n",
              "9472          -1         1        14  10070023  ...         2         2   \n",
              "\n",
              "        HXFAMINC  PRDASIAN  PECERT1  PECERT2  PECERT3  PXCERT1  PXCERT2  y  \n",
              "112251        42        -1        2       -1       -1        0        0  0  \n",
              "89743          0        -1        2       -1       -1        0        0  0  \n",
              "114059        23        -1        2       -1       -1        0        0  0  \n",
              "33973          0        -1        2       -1       -1       20        0  0  \n",
              "20904          0        -1        2       -1       -1       20        0  0  \n",
              "...          ...       ...      ...      ...      ...      ...      ... ..  \n",
              "18379          0        -1       -1       -1       -1       -1       -1  0  \n",
              "94077          0        -1        2       -1       -1        0        0  0  \n",
              "8856           0        -1       -1       -1       -1       -1       -1  0  \n",
              "98134          0        -1        1        2        2        0        0  0  \n",
              "9472           0        -1        2       -1       -1       20        0  0  \n",
              "\n",
              "[57226 rows x 165 columns]"
            ],
            "text/html": [
              "\n",
              "  <div id=\"df-3c222f5b-3275-42ef-9950-d95f955b4a58\">\n",
              "    <div class=\"colab-df-container\">\n",
              "      <div>\n",
              "<style scoped>\n",
              "    .dataframe tbody tr th:only-of-type {\n",
              "        vertical-align: middle;\n",
              "    }\n",
              "\n",
              "    .dataframe tbody tr th {\n",
              "        vertical-align: top;\n",
              "    }\n",
              "\n",
              "    .dataframe thead th {\n",
              "        text-align: right;\n",
              "    }\n",
              "</style>\n",
              "<table border=\"1\" class=\"dataframe\">\n",
              "  <thead>\n",
              "    <tr style=\"text-align: right;\">\n",
              "      <th></th>\n",
              "      <th>HRHHID</th>\n",
              "      <th>HURESPLI</th>\n",
              "      <th>HUFINAL</th>\n",
              "      <th>HETENURE</th>\n",
              "      <th>HEHOUSUT</th>\n",
              "      <th>HETELHHD</th>\n",
              "      <th>HETELAVL</th>\n",
              "      <th>HEPHONEO</th>\n",
              "      <th>HEFAMINC</th>\n",
              "      <th>HWHHWGT</th>\n",
              "      <th>...</th>\n",
              "      <th>PEDISOUT</th>\n",
              "      <th>PRDISFLG</th>\n",
              "      <th>HXFAMINC</th>\n",
              "      <th>PRDASIAN</th>\n",
              "      <th>PECERT1</th>\n",
              "      <th>PECERT2</th>\n",
              "      <th>PECERT3</th>\n",
              "      <th>PXCERT1</th>\n",
              "      <th>PXCERT2</th>\n",
              "      <th>y</th>\n",
              "    </tr>\n",
              "  </thead>\n",
              "  <tbody>\n",
              "    <tr>\n",
              "      <th>112251</th>\n",
              "      <td>507340501120403</td>\n",
              "      <td>1</td>\n",
              "      <td>201</td>\n",
              "      <td>3</td>\n",
              "      <td>1</td>\n",
              "      <td>1</td>\n",
              "      <td>-1</td>\n",
              "      <td>1</td>\n",
              "      <td>13</td>\n",
              "      <td>34491316</td>\n",
              "      <td>...</td>\n",
              "      <td>2</td>\n",
              "      <td>2</td>\n",
              "      <td>42</td>\n",
              "      <td>-1</td>\n",
              "      <td>2</td>\n",
              "      <td>-1</td>\n",
              "      <td>-1</td>\n",
              "      <td>0</td>\n",
              "      <td>0</td>\n",
              "      <td>0</td>\n",
              "    </tr>\n",
              "    <tr>\n",
              "      <th>89743</th>\n",
              "      <td>578660581951003</td>\n",
              "      <td>1</td>\n",
              "      <td>201</td>\n",
              "      <td>3</td>\n",
              "      <td>5</td>\n",
              "      <td>1</td>\n",
              "      <td>-1</td>\n",
              "      <td>1</td>\n",
              "      <td>3</td>\n",
              "      <td>12853838</td>\n",
              "      <td>...</td>\n",
              "      <td>2</td>\n",
              "      <td>2</td>\n",
              "      <td>0</td>\n",
              "      <td>-1</td>\n",
              "      <td>2</td>\n",
              "      <td>-1</td>\n",
              "      <td>-1</td>\n",
              "      <td>0</td>\n",
              "      <td>0</td>\n",
              "      <td>0</td>\n",
              "    </tr>\n",
              "    <tr>\n",
              "      <th>114059</th>\n",
              "      <td>967582201340105</td>\n",
              "      <td>1</td>\n",
              "      <td>201</td>\n",
              "      <td>2</td>\n",
              "      <td>5</td>\n",
              "      <td>1</td>\n",
              "      <td>-1</td>\n",
              "      <td>1</td>\n",
              "      <td>10</td>\n",
              "      <td>37756466</td>\n",
              "      <td>...</td>\n",
              "      <td>2</td>\n",
              "      <td>2</td>\n",
              "      <td>23</td>\n",
              "      <td>-1</td>\n",
              "      <td>2</td>\n",
              "      <td>-1</td>\n",
              "      <td>-1</td>\n",
              "      <td>0</td>\n",
              "      <td>0</td>\n",
              "      <td>0</td>\n",
              "    </tr>\n",
              "    <tr>\n",
              "      <th>33973</th>\n",
              "      <td>410100031131678</td>\n",
              "      <td>1</td>\n",
              "      <td>201</td>\n",
              "      <td>2</td>\n",
              "      <td>1</td>\n",
              "      <td>1</td>\n",
              "      <td>-1</td>\n",
              "      <td>1</td>\n",
              "      <td>16</td>\n",
              "      <td>40579130</td>\n",
              "      <td>...</td>\n",
              "      <td>2</td>\n",
              "      <td>2</td>\n",
              "      <td>0</td>\n",
              "      <td>-1</td>\n",
              "      <td>2</td>\n",
              "      <td>-1</td>\n",
              "      <td>-1</td>\n",
              "      <td>20</td>\n",
              "      <td>0</td>\n",
              "      <td>0</td>\n",
              "    </tr>\n",
              "    <tr>\n",
              "      <th>20904</th>\n",
              "      <td>219010610013449</td>\n",
              "      <td>4</td>\n",
              "      <td>201</td>\n",
              "      <td>1</td>\n",
              "      <td>1</td>\n",
              "      <td>1</td>\n",
              "      <td>-1</td>\n",
              "      <td>1</td>\n",
              "      <td>16</td>\n",
              "      <td>45467838</td>\n",
              "      <td>...</td>\n",
              "      <td>2</td>\n",
              "      <td>2</td>\n",
              "      <td>0</td>\n",
              "      <td>-1</td>\n",
              "      <td>2</td>\n",
              "      <td>-1</td>\n",
              "      <td>-1</td>\n",
              "      <td>20</td>\n",
              "      <td>0</td>\n",
              "      <td>0</td>\n",
              "    </tr>\n",
              "    <tr>\n",
              "      <th>...</th>\n",
              "      <td>...</td>\n",
              "      <td>...</td>\n",
              "      <td>...</td>\n",
              "      <td>...</td>\n",
              "      <td>...</td>\n",
              "      <td>...</td>\n",
              "      <td>...</td>\n",
              "      <td>...</td>\n",
              "      <td>...</td>\n",
              "      <td>...</td>\n",
              "      <td>...</td>\n",
              "      <td>...</td>\n",
              "      <td>...</td>\n",
              "      <td>...</td>\n",
              "      <td>...</td>\n",
              "      <td>...</td>\n",
              "      <td>...</td>\n",
              "      <td>...</td>\n",
              "      <td>...</td>\n",
              "      <td>...</td>\n",
              "      <td>...</td>\n",
              "    </tr>\n",
              "    <tr>\n",
              "      <th>18379</th>\n",
              "      <td>310946170108105</td>\n",
              "      <td>1</td>\n",
              "      <td>201</td>\n",
              "      <td>3</td>\n",
              "      <td>1</td>\n",
              "      <td>1</td>\n",
              "      <td>-1</td>\n",
              "      <td>1</td>\n",
              "      <td>13</td>\n",
              "      <td>21372705</td>\n",
              "      <td>...</td>\n",
              "      <td>-1</td>\n",
              "      <td>-1</td>\n",
              "      <td>0</td>\n",
              "      <td>-1</td>\n",
              "      <td>-1</td>\n",
              "      <td>-1</td>\n",
              "      <td>-1</td>\n",
              "      <td>-1</td>\n",
              "      <td>-1</td>\n",
              "      <td>0</td>\n",
              "    </tr>\n",
              "    <tr>\n",
              "      <th>94077</th>\n",
              "      <td>411809460586216</td>\n",
              "      <td>1</td>\n",
              "      <td>201</td>\n",
              "      <td>1</td>\n",
              "      <td>1</td>\n",
              "      <td>1</td>\n",
              "      <td>-1</td>\n",
              "      <td>1</td>\n",
              "      <td>11</td>\n",
              "      <td>33387906</td>\n",
              "      <td>...</td>\n",
              "      <td>2</td>\n",
              "      <td>2</td>\n",
              "      <td>0</td>\n",
              "      <td>-1</td>\n",
              "      <td>2</td>\n",
              "      <td>-1</td>\n",
              "      <td>-1</td>\n",
              "      <td>0</td>\n",
              "      <td>0</td>\n",
              "      <td>0</td>\n",
              "    </tr>\n",
              "    <tr>\n",
              "      <th>8856</th>\n",
              "      <td>40710040307671</td>\n",
              "      <td>1</td>\n",
              "      <td>1</td>\n",
              "      <td>2</td>\n",
              "      <td>1</td>\n",
              "      <td>1</td>\n",
              "      <td>-1</td>\n",
              "      <td>1</td>\n",
              "      <td>1</td>\n",
              "      <td>40151439</td>\n",
              "      <td>...</td>\n",
              "      <td>-1</td>\n",
              "      <td>-1</td>\n",
              "      <td>0</td>\n",
              "      <td>-1</td>\n",
              "      <td>-1</td>\n",
              "      <td>-1</td>\n",
              "      <td>-1</td>\n",
              "      <td>-1</td>\n",
              "      <td>-1</td>\n",
              "      <td>0</td>\n",
              "    </tr>\n",
              "    <tr>\n",
              "      <th>98134</th>\n",
              "      <td>28720188901004</td>\n",
              "      <td>1</td>\n",
              "      <td>201</td>\n",
              "      <td>1</td>\n",
              "      <td>1</td>\n",
              "      <td>1</td>\n",
              "      <td>-1</td>\n",
              "      <td>1</td>\n",
              "      <td>15</td>\n",
              "      <td>28083647</td>\n",
              "      <td>...</td>\n",
              "      <td>2</td>\n",
              "      <td>2</td>\n",
              "      <td>0</td>\n",
              "      <td>-1</td>\n",
              "      <td>1</td>\n",
              "      <td>2</td>\n",
              "      <td>2</td>\n",
              "      <td>0</td>\n",
              "      <td>0</td>\n",
              "      <td>0</td>\n",
              "    </tr>\n",
              "    <tr>\n",
              "      <th>9472</th>\n",
              "      <td>12076304105461</td>\n",
              "      <td>2</td>\n",
              "      <td>1</td>\n",
              "      <td>1</td>\n",
              "      <td>1</td>\n",
              "      <td>1</td>\n",
              "      <td>-1</td>\n",
              "      <td>1</td>\n",
              "      <td>14</td>\n",
              "      <td>10070023</td>\n",
              "      <td>...</td>\n",
              "      <td>2</td>\n",
              "      <td>2</td>\n",
              "      <td>0</td>\n",
              "      <td>-1</td>\n",
              "      <td>2</td>\n",
              "      <td>-1</td>\n",
              "      <td>-1</td>\n",
              "      <td>20</td>\n",
              "      <td>0</td>\n",
              "      <td>0</td>\n",
              "    </tr>\n",
              "  </tbody>\n",
              "</table>\n",
              "<p>57226 rows × 165 columns</p>\n",
              "</div>\n",
              "      <button class=\"colab-df-convert\" onclick=\"convertToInteractive('df-3c222f5b-3275-42ef-9950-d95f955b4a58')\"\n",
              "              title=\"Convert this dataframe to an interactive table.\"\n",
              "              style=\"display:none;\">\n",
              "        \n",
              "  <svg xmlns=\"http://www.w3.org/2000/svg\" height=\"24px\"viewBox=\"0 0 24 24\"\n",
              "       width=\"24px\">\n",
              "    <path d=\"M0 0h24v24H0V0z\" fill=\"none\"/>\n",
              "    <path d=\"M18.56 5.44l.94 2.06.94-2.06 2.06-.94-2.06-.94-.94-2.06-.94 2.06-2.06.94zm-11 1L8.5 8.5l.94-2.06 2.06-.94-2.06-.94L8.5 2.5l-.94 2.06-2.06.94zm10 10l.94 2.06.94-2.06 2.06-.94-2.06-.94-.94-2.06-.94 2.06-2.06.94z\"/><path d=\"M17.41 7.96l-1.37-1.37c-.4-.4-.92-.59-1.43-.59-.52 0-1.04.2-1.43.59L10.3 9.45l-7.72 7.72c-.78.78-.78 2.05 0 2.83L4 21.41c.39.39.9.59 1.41.59.51 0 1.02-.2 1.41-.59l7.78-7.78 2.81-2.81c.8-.78.8-2.07 0-2.86zM5.41 20L4 18.59l7.72-7.72 1.47 1.35L5.41 20z\"/>\n",
              "  </svg>\n",
              "      </button>\n",
              "      \n",
              "  <style>\n",
              "    .colab-df-container {\n",
              "      display:flex;\n",
              "      flex-wrap:wrap;\n",
              "      gap: 12px;\n",
              "    }\n",
              "\n",
              "    .colab-df-convert {\n",
              "      background-color: #E8F0FE;\n",
              "      border: none;\n",
              "      border-radius: 50%;\n",
              "      cursor: pointer;\n",
              "      display: none;\n",
              "      fill: #1967D2;\n",
              "      height: 32px;\n",
              "      padding: 0 0 0 0;\n",
              "      width: 32px;\n",
              "    }\n",
              "\n",
              "    .colab-df-convert:hover {\n",
              "      background-color: #E2EBFA;\n",
              "      box-shadow: 0px 1px 2px rgba(60, 64, 67, 0.3), 0px 1px 3px 1px rgba(60, 64, 67, 0.15);\n",
              "      fill: #174EA6;\n",
              "    }\n",
              "\n",
              "    [theme=dark] .colab-df-convert {\n",
              "      background-color: #3B4455;\n",
              "      fill: #D2E3FC;\n",
              "    }\n",
              "\n",
              "    [theme=dark] .colab-df-convert:hover {\n",
              "      background-color: #434B5C;\n",
              "      box-shadow: 0px 1px 3px 1px rgba(0, 0, 0, 0.15);\n",
              "      filter: drop-shadow(0px 1px 2px rgba(0, 0, 0, 0.3));\n",
              "      fill: #FFFFFF;\n",
              "    }\n",
              "  </style>\n",
              "\n",
              "      <script>\n",
              "        const buttonEl =\n",
              "          document.querySelector('#df-3c222f5b-3275-42ef-9950-d95f955b4a58 button.colab-df-convert');\n",
              "        buttonEl.style.display =\n",
              "          google.colab.kernel.accessAllowed ? 'block' : 'none';\n",
              "\n",
              "        async function convertToInteractive(key) {\n",
              "          const element = document.querySelector('#df-3c222f5b-3275-42ef-9950-d95f955b4a58');\n",
              "          const dataTable =\n",
              "            await google.colab.kernel.invokeFunction('convertToInteractive',\n",
              "                                                     [key], {});\n",
              "          if (!dataTable) return;\n",
              "\n",
              "          const docLinkHtml = 'Like what you see? Visit the ' +\n",
              "            '<a target=\"_blank\" href=https://colab.research.google.com/notebooks/data_table.ipynb>data table notebook</a>'\n",
              "            + ' to learn more about interactive tables.';\n",
              "          element.innerHTML = '';\n",
              "          dataTable['output_type'] = 'display_data';\n",
              "          await google.colab.output.renderOutput(dataTable, element);\n",
              "          const docLink = document.createElement('div');\n",
              "          docLink.innerHTML = docLinkHtml;\n",
              "          element.appendChild(docLink);\n",
              "        }\n",
              "      </script>\n",
              "    </div>\n",
              "  </div>\n",
              "  "
            ]
          },
          "metadata": {},
          "execution_count": 49
        }
      ]
    },
    {
      "cell_type": "code",
      "source": [
        "from sklearn.model_selection import cross_val_score,train_test_split, cross_val_predict\n",
        "importance_thresholds = [10**-9, 10**-6, 10**-5, 10**-4, 10**-3, 10**-2]\n",
        "accuracy_scores = []\n",
        "for importance in importance_thresholds:\n",
        "  threshold = df[df.Importances > importance]\n",
        "  plist = threshold.Predictors.to_list() + ['y']\n",
        "  new = train.loc[:, plist]\n",
        "  new_x = new.drop('y', axis = 1)\n",
        "  # Defining the evaluation procedure\n",
        "  cv = KFold(n_splits = 7, shuffle = True)\n",
        "  # Defining the grid search procedure\n",
        "  model = RandomForestClassifier(n_jobs=-1)\n",
        "  cv_score = cross_val_score(model, new_x, new.y, cv = cv, n_jobs = -1, scoring = 'accuracy')\n",
        "  accuracy_scores.append(cv_score.mean())"
      ],
      "metadata": {
        "id": "mVLj2EkmVPiK"
      },
      "id": "mVLj2EkmVPiK",
      "execution_count": 50,
      "outputs": []
    },
    {
      "cell_type": "code",
      "source": [
        "accuracy_scores"
      ],
      "metadata": {
        "colab": {
          "base_uri": "https://localhost:8080/"
        },
        "id": "dS9bk6202rJd",
        "outputId": "9c65e627-936b-47ad-deb4-e43cf6fbf0e5"
      },
      "id": "dS9bk6202rJd",
      "execution_count": 54,
      "outputs": [
        {
          "output_type": "execute_result",
          "data": {
            "text/plain": [
              "[0.8642051366229538,\n",
              " 0.8645545423146009,\n",
              " 0.8634536783168715,\n",
              " 0.8647293060745727,\n",
              " 0.8692551995034535,\n",
              " 0.9137456045633033]"
            ]
          },
          "metadata": {},
          "execution_count": 54
        }
      ]
    },
    {
      "cell_type": "code",
      "source": [
        "opt_importance_thresh = importance_thresholds[np.argmax(accuracy_scores)]\n",
        "opt_importance_thresh"
      ],
      "metadata": {
        "colab": {
          "base_uri": "https://localhost:8080/"
        },
        "id": "5ZNgANygaNWY",
        "outputId": "0568ffca-52dd-43a1-f4ee-3fc838790214"
      },
      "id": "5ZNgANygaNWY",
      "execution_count": 55,
      "outputs": [
        {
          "output_type": "execute_result",
          "data": {
            "text/plain": [
              "0.01"
            ]
          },
          "metadata": {},
          "execution_count": 55
        }
      ]
    },
    {
      "cell_type": "code",
      "source": [
        "len(df[df.Importances > opt_importance_thresh]) # 22 predictors here\n",
        "threshold = df[df.Importances > opt_importance_thresh]\n",
        "plist = threshold.Predictors.to_list()\n",
        "plist.remove('HRHHID')\n",
        "plist = plist\n",
        "plist"
      ],
      "metadata": {
        "colab": {
          "base_uri": "https://localhost:8080/"
        },
        "id": "mAs3m2g8cmua",
        "outputId": "23dcf7cb-0185-42ab-a993-ad09320a6199"
      },
      "id": "mAs3m2g8cmua",
      "execution_count": 78,
      "outputs": [
        {
          "output_type": "execute_result",
          "data": {
            "text/plain": [
              "['HETENURE',\n",
              " 'HEFAMINC',\n",
              " 'HWHHWGT',\n",
              " 'HRNUMHOU',\n",
              " 'HRHTYPE',\n",
              " 'HRMIS',\n",
              " 'HRHHID2',\n",
              " 'GEDIV',\n",
              " 'GESTFIPS',\n",
              " 'GTCBSA',\n",
              " 'GTCO',\n",
              " 'GTCBSASZ',\n",
              " 'GTCSA',\n",
              " 'PRTAGE',\n",
              " 'PEEDUCA',\n",
              " 'PWFMWGT',\n",
              " 'PWLGWGT',\n",
              " 'PWSSWGT',\n",
              " 'PWVETWGT',\n",
              " 'QSTNUM',\n",
              " 'PWCMPWGT',\n",
              " 'HXFAMINC']"
            ]
          },
          "metadata": {},
          "execution_count": 78
        }
      ]
    },
    {
      "cell_type": "code",
      "execution_count": null,
      "id": "f4cd65d3",
      "metadata": {
        "colab": {
          "base_uri": "https://localhost:8080/"
        },
        "id": "f4cd65d3",
        "outputId": "95cb7e6c-c3c6-4d40-c87a-36e2ae11f19a"
      },
      "outputs": [
        {
          "output_type": "execute_result",
          "data": {
            "text/plain": [
              "array([5.70021663e-03, 0.00000000e+00, 0.00000000e+00, 1.42731868e-03,\n",
              "       5.47840009e-04, 1.40575842e-03, 8.43648213e-04, 2.55684076e-04,\n",
              "       4.80302319e-04, 6.01054359e-04, 1.20479871e-02, 0.00000000e+00,\n",
              "       0.00000000e+00, 0.00000000e+00, 5.82038557e-03, 0.00000000e+00,\n",
              "       3.11104439e-03, 1.81075861e-03, 3.04302371e-03, 1.31846769e-03,\n",
              "       1.58370230e-03, 1.17717784e-03, 2.11548465e-03, 1.21341908e-03,\n",
              "       5.64482232e-04, 7.43889562e-04, 2.35125202e-04, 3.26944233e-05,\n",
              "       0.00000000e+00, 1.87752821e-03, 3.13477489e-03, 4.51112956e-03,\n",
              "       4.61394182e-03, 2.79772495e-03, 1.79940286e-03, 8.44388903e-04,\n",
              "       9.93736310e-04, 2.49156575e-03, 2.64892901e-03, 1.14195782e-03,\n",
              "       3.13315075e-03, 1.63774704e-04, 9.08589109e-04, 6.01304031e-04,\n",
              "       4.56197784e-04, 2.67978517e-04, 5.54607950e-05, 1.82661713e-03,\n",
              "       1.64228501e-03, 1.25801882e-03, 3.50392688e-04, 8.89015467e-04,\n",
              "       6.16365089e-04, 9.07738274e-04, 8.11638083e-04, 7.22629557e-04,\n",
              "       9.29713481e-04, 8.50654384e-05, 8.28535460e-04, 1.81126075e-03,\n",
              "       2.15427234e-03, 6.36770806e-04, 9.50232398e-05, 9.73383181e-04,\n",
              "       4.16680826e-04, 4.37744982e-04, 6.75947419e-04, 1.34362939e-04,\n",
              "       2.99842555e-05, 2.29277464e-04, 3.03696376e-05, 1.71727545e-04,\n",
              "       4.81761280e-05, 2.61252157e-04, 2.80751975e-04, 2.77120937e-04,\n",
              "       2.28234826e-04, 8.42612650e-05, 3.17524622e-04, 2.47265123e-04,\n",
              "       6.94560596e-05, 8.10774524e-05, 1.26806759e-04, 9.44454234e-05,\n",
              "       8.58021522e-04, 2.41488762e-04, 1.25361472e-04, 9.39384535e-04,\n",
              "       2.67260536e-04, 2.97742154e-04, 2.81016836e-04, 2.07610118e-04,\n",
              "       2.43565920e-04, 2.54301243e-04, 2.56697974e-04, 2.65543112e-04,\n",
              "       1.05964188e-03, 2.28251309e-04, 9.91078341e-04, 1.11264752e-04,\n",
              "       1.14036176e-04, 1.47176740e-04, 3.12718578e-04, 2.05117325e-04,\n",
              "       1.13614616e-04, 9.47758082e-05, 1.88576410e-04, 5.17051066e-05,\n",
              "       5.50309577e-05, 6.35419530e-05, 4.25959570e-05, 0.00000000e+00,\n",
              "       2.72657807e-05, 4.28977155e-05, 4.82166891e-05, 2.90908667e-05,\n",
              "       2.76838010e-05, 1.30460970e-05, 2.36177235e-04, 1.41687628e-04,\n",
              "       1.02413365e-04, 7.25518685e-05, 2.48705782e-05, 9.96326273e-06,\n",
              "       2.65374428e-06, 3.70166796e-06, 3.80550007e-06, 9.83568643e-07,\n",
              "       0.00000000e+00, 0.00000000e+00, 0.00000000e+00, 4.65324465e-05,\n",
              "       0.00000000e+00, 0.00000000e+00, 0.00000000e+00, 0.00000000e+00,\n",
              "       0.00000000e+00, 5.44432476e-05, 1.80668683e-05, 9.10922415e-05,\n",
              "       5.46389346e-05, 6.61360240e-05, 1.48085823e-04, 9.30099320e-05,\n",
              "       2.16231859e-04, 1.64004922e-04, 1.05424522e-04, 7.23282323e-05,\n",
              "       3.31712519e-05, 3.91220978e-05, 6.54771790e-05, 1.07556265e-05,\n",
              "       1.75008446e-04, 2.27685675e-05, 9.15997598e-06, 9.43126314e-05,\n",
              "       1.09341890e-04, 1.22306767e-04, 5.82664321e-06, 3.38886687e-05,\n",
              "       1.27287159e-04, 2.68558472e-04, 1.04158412e-04, 1.03741428e-04,\n",
              "       1.57300431e-04, 5.50812730e-05, 7.56516207e-04, 1.43738351e-04,\n",
              "       1.48635370e-04, 2.20515450e-04, 6.01748252e-04, 1.36708819e-04,\n",
              "       4.43092365e-04, 3.83206254e-04, 1.44485696e-04, 1.56531324e-04,\n",
              "       2.52519107e-04, 4.86839694e-04, 2.14596591e-04, 3.76315239e-05,\n",
              "       1.20627707e-04, 2.99511305e-05, 2.50188810e-04, 2.05637454e-04,\n",
              "       2.59181351e-04, 4.58069930e-04, 4.05980035e-04, 4.13628823e-05,\n",
              "       2.06265061e-05, 3.33146692e-04, 1.89805374e-04, 2.31196956e-04,\n",
              "       1.17053200e-04, 8.87583369e-05, 3.63584169e-04, 2.88409783e-05,\n",
              "       3.27549399e-04, 4.05410883e-04, 3.60247173e-05, 9.91385899e-04,\n",
              "       3.07228008e-05, 9.43551996e-04, 3.79749346e-05, 7.64023998e-05,\n",
              "       7.97225486e-04, 2.43395641e-05, 7.33840584e-04, 4.48898315e-05,\n",
              "       5.49813274e-04, 1.99217121e-04, 1.47191370e-04, 1.85265792e-04,\n",
              "       1.18204582e-04, 1.77223129e-04, 2.48799325e-04, 1.48686846e-04,\n",
              "       1.56052015e-04, 0.00000000e+00, 1.85038116e-04, 2.89128447e-04,\n",
              "       3.89021284e-04, 0.00000000e+00, 2.10562082e-04, 4.33867450e-04,\n",
              "       8.58542947e-07, 1.15150223e-04, 0.00000000e+00, 0.00000000e+00,\n",
              "       8.52783895e-05, 1.29270798e-04, 1.23925990e-04, 2.37525562e-04,\n",
              "       1.56640218e-04, 3.21556574e-04, 2.33907743e-04, 3.36007336e-04,\n",
              "       4.41947391e-04, 2.64886204e-04, 2.21774677e-04, 3.66112859e-04,\n",
              "       4.32305881e-03, 2.35027447e-03, 1.16713803e-03, 4.14325109e-03,\n",
              "       2.85701351e-03, 6.88090456e-04, 5.37386666e-04, 3.19491069e-04,\n",
              "       1.76494118e-04, 1.82039269e-04, 4.77256839e-06, 0.00000000e+00,\n",
              "       3.35430644e-04, 3.79287902e-04, 0.00000000e+00, 1.53820855e-04,\n",
              "       5.97837616e-05, 2.47338663e-04, 6.95016892e-05, 3.77628479e-04,\n",
              "       2.67448298e-05, 3.17124815e-04, 2.52630171e-04, 1.15275573e-04,\n",
              "       6.02147091e-04, 1.01727444e-04, 2.06943622e-04, 2.86332169e-04,\n",
              "       2.35242267e-04, 1.06052047e-04, 6.26749576e-05, 2.88601821e-04,\n",
              "       9.63226916e-05, 9.87270113e-05, 7.55893100e-05, 1.15854438e-04,\n",
              "       1.17742982e-04, 1.34102789e-04, 2.44526659e-04, 1.13071593e-04,\n",
              "       1.90691702e-04, 1.20022812e-04, 1.61976797e-04, 1.74861069e-04,\n",
              "       1.38150004e-04, 1.85217584e-04, 1.97311083e-04, 1.06643871e-04,\n",
              "       1.98563765e-05, 3.00332003e-05, 1.75240349e-05, 2.77935593e-05,\n",
              "       5.28417093e-05, 5.34687519e-05, 4.79350324e-05, 8.14860603e-05,\n",
              "       5.16645899e-05, 7.77032468e-05, 4.12936577e-05, 3.40341434e-04,\n",
              "       2.16677058e-04, 1.63168919e-04, 1.29763952e-04, 1.13509606e-04,\n",
              "       9.12615888e-05, 1.39881387e-04, 1.05221970e-04, 2.36344711e-04,\n",
              "       1.31865068e-04, 2.28334751e-04, 1.55804391e-04, 1.53890577e-04,\n",
              "       1.48451140e-04, 2.23107341e-05, 3.35547866e-05, 2.14428848e-05,\n",
              "       1.65507804e-04, 1.69533170e-04, 2.44996446e-04, 2.39421040e-04,\n",
              "       1.34797251e-04, 2.49174333e-04, 2.79183217e-04, 1.27138719e-04,\n",
              "       1.89096584e-04, 1.24819369e-04, 2.29461085e-04, 1.58918602e-04,\n",
              "       1.81246640e-04, 1.83818096e-04, 2.19143964e-04, 3.50287896e-04,\n",
              "       3.30067657e-04, 5.16988385e-04, 4.33169761e-04, 6.10187957e-03,\n",
              "       9.18949301e-04, 6.09898601e-04, 2.59589373e-04, 7.55869311e-04,\n",
              "       6.23731155e-04, 2.21776625e-04, 4.27331898e-04, 2.77443139e-03,\n",
              "       1.15316720e-03, 1.28467467e-03, 3.31911603e-05, 4.43423571e-05,\n",
              "       8.49475044e-04, 3.45235743e-05, 3.65631816e-04, 1.26294048e-04,\n",
              "       1.31784352e-05, 1.57553884e-06, 2.81920915e-04, 7.64741327e-04,\n",
              "       6.89847644e-04, 5.22170308e-04, 3.61581832e-04, 5.47553021e-04,\n",
              "       3.17756271e-04, 2.99852553e-04, 4.08113772e-04, 3.46178951e-04,\n",
              "       5.10257926e-04, 2.55607454e-04, 1.76967170e-04, 2.51077821e-04,\n",
              "       3.29736300e-04, 1.66995029e-04, 2.49645396e-04, 4.66142019e-04,\n",
              "       7.63870669e-05, 1.28139659e-04, 1.25381481e-04, 9.62845828e-05,\n",
              "       8.72667449e-05, 9.43590106e-05, 2.70777229e-03, 5.53508688e-04,\n",
              "       6.57487069e-05, 3.01524484e-05, 6.82223220e-06, 0.00000000e+00,\n",
              "       3.29863744e-04, 3.96476356e-04, 2.78267638e-04, 5.35995038e-04,\n",
              "       3.62154968e-04, 2.73336668e-04, 6.18099011e-04, 1.11217997e-03,\n",
              "       1.18845379e-03, 4.10182678e-04, 4.10853443e-03, 3.68424334e-03,\n",
              "       3.19528254e-03, 2.32758235e-03, 3.69902988e-03, 8.01519597e-04,\n",
              "       4.94162804e-03, 4.77041981e-03, 3.79787940e-03, 4.93573655e-03,\n",
              "       2.10194357e-03, 7.96916512e-02, 3.52090345e-02, 4.27638903e-03,\n",
              "       2.50068691e-03, 2.80370350e-03, 3.58716939e-03, 2.50954511e-03,\n",
              "       1.47747466e-03, 3.96163816e-03, 3.11469723e-03, 4.31268929e-03,\n",
              "       2.03664555e-03, 6.02526044e-03, 3.30182863e-03, 6.40371580e-05,\n",
              "       3.40881640e-03, 1.46950236e-04, 6.29271555e-03, 3.06737127e-03,\n",
              "       5.46874292e-03, 1.10615505e-02, 1.21949623e-03, 9.58778072e-05,\n",
              "       1.28431177e-01, 2.45975075e-02, 3.58186352e-02, 1.58579979e-02,\n",
              "       3.27850849e-02, 1.02801941e-02, 1.60869407e-02, 4.17980579e-02,\n",
              "       8.32334650e-03, 5.12504308e-03, 2.88550878e-03, 4.36382026e-02,\n",
              "       1.81664654e-02, 3.34498119e-03, 8.34284817e-04, 2.97935671e-02,\n",
              "       3.48299780e-03, 2.91065628e-03, 1.72156471e-04, 4.16839741e-02,\n",
              "       6.78132894e-04, 1.38544003e-02, 9.70808772e-04, 7.81072914e-04,\n",
              "       9.61717879e-05, 2.97773038e-03, 1.69366008e-03, 1.53486941e-03,\n",
              "       7.35426211e-04, 1.60629045e-03, 5.85981241e-04, 6.72573538e-03,\n",
              "       9.99716470e-05, 8.48038037e-05, 5.32528136e-05, 3.99558933e-03,\n",
              "       5.41028911e-05, 2.71948365e-04, 4.01022170e-05, 5.53393487e-03,\n",
              "       4.55160350e-05, 4.54694672e-05, 3.19416982e-05, 2.25087903e-03,\n",
              "       2.09501352e-03, 1.08008453e-03, 1.16841806e-02, 4.11327594e-03,\n",
              "       3.84790164e-03, 5.01041409e-03, 1.06675964e-02, 7.17052898e-05,\n",
              "       6.13079701e-05, 5.66247303e-03, 4.38304104e-03, 0.00000000e+00,\n",
              "       2.38672746e-02])"
            ]
          },
          "metadata": {},
          "execution_count": 30
        }
      ],
      "source": [
        "# Lila Feature Importance\n",
        "feature_importances = np.mean([\n",
        "    tree.feature_importances_ for tree in model.estimators_\n",
        "], axis=0)\n",
        "importances = list(feature_importances)\n",
        "cols = []\n",
        "for i in importances:\n",
        "    if i > 0.0000000001:\n",
        "        cols.append(importances.index(i))\n",
        "len(cols)\n",
        "feature_importances"
      ]
    },
    {
      "cell_type": "code",
      "execution_count": null,
      "id": "d8c24c24",
      "metadata": {
        "colab": {
          "base_uri": "https://localhost:8080/",
          "height": 424
        },
        "id": "d8c24c24",
        "outputId": "7eac6d65-abd2-49cf-9a6b-5c37a4711e9e"
      },
      "outputs": [
        {
          "output_type": "execute_result",
          "data": {
            "text/plain": [
              "    predictor  importance\n",
              "428     HESS1    0.128431\n",
              "405      HES9    0.079692\n",
              "439     HESH3    0.043638\n",
              "435     HESH2    0.041798\n",
              "447     HESH5    0.041684\n",
              "..        ...         ...\n",
              "134   PULKPS4    0.000000\n",
              "133   PULKPS3    0.000000\n",
              "132   PULKPS2    0.000000\n",
              "130   PULKDK6    0.000000\n",
              "383  PTNMEMP2    0.000000\n",
              "\n",
              "[485 rows x 2 columns]"
            ],
            "text/html": [
              "\n",
              "  <div id=\"df-73aab823-abcf-4f01-ab18-ad5bd008e814\">\n",
              "    <div class=\"colab-df-container\">\n",
              "      <div>\n",
              "<style scoped>\n",
              "    .dataframe tbody tr th:only-of-type {\n",
              "        vertical-align: middle;\n",
              "    }\n",
              "\n",
              "    .dataframe tbody tr th {\n",
              "        vertical-align: top;\n",
              "    }\n",
              "\n",
              "    .dataframe thead th {\n",
              "        text-align: right;\n",
              "    }\n",
              "</style>\n",
              "<table border=\"1\" class=\"dataframe\">\n",
              "  <thead>\n",
              "    <tr style=\"text-align: right;\">\n",
              "      <th></th>\n",
              "      <th>predictor</th>\n",
              "      <th>importance</th>\n",
              "    </tr>\n",
              "  </thead>\n",
              "  <tbody>\n",
              "    <tr>\n",
              "      <th>428</th>\n",
              "      <td>HESS1</td>\n",
              "      <td>0.128431</td>\n",
              "    </tr>\n",
              "    <tr>\n",
              "      <th>405</th>\n",
              "      <td>HES9</td>\n",
              "      <td>0.079692</td>\n",
              "    </tr>\n",
              "    <tr>\n",
              "      <th>439</th>\n",
              "      <td>HESH3</td>\n",
              "      <td>0.043638</td>\n",
              "    </tr>\n",
              "    <tr>\n",
              "      <th>435</th>\n",
              "      <td>HESH2</td>\n",
              "      <td>0.041798</td>\n",
              "    </tr>\n",
              "    <tr>\n",
              "      <th>447</th>\n",
              "      <td>HESH5</td>\n",
              "      <td>0.041684</td>\n",
              "    </tr>\n",
              "    <tr>\n",
              "      <th>...</th>\n",
              "      <td>...</td>\n",
              "      <td>...</td>\n",
              "    </tr>\n",
              "    <tr>\n",
              "      <th>134</th>\n",
              "      <td>PULKPS4</td>\n",
              "      <td>0.000000</td>\n",
              "    </tr>\n",
              "    <tr>\n",
              "      <th>133</th>\n",
              "      <td>PULKPS3</td>\n",
              "      <td>0.000000</td>\n",
              "    </tr>\n",
              "    <tr>\n",
              "      <th>132</th>\n",
              "      <td>PULKPS2</td>\n",
              "      <td>0.000000</td>\n",
              "    </tr>\n",
              "    <tr>\n",
              "      <th>130</th>\n",
              "      <td>PULKDK6</td>\n",
              "      <td>0.000000</td>\n",
              "    </tr>\n",
              "    <tr>\n",
              "      <th>383</th>\n",
              "      <td>PTNMEMP2</td>\n",
              "      <td>0.000000</td>\n",
              "    </tr>\n",
              "  </tbody>\n",
              "</table>\n",
              "<p>485 rows × 2 columns</p>\n",
              "</div>\n",
              "      <button class=\"colab-df-convert\" onclick=\"convertToInteractive('df-73aab823-abcf-4f01-ab18-ad5bd008e814')\"\n",
              "              title=\"Convert this dataframe to an interactive table.\"\n",
              "              style=\"display:none;\">\n",
              "        \n",
              "  <svg xmlns=\"http://www.w3.org/2000/svg\" height=\"24px\"viewBox=\"0 0 24 24\"\n",
              "       width=\"24px\">\n",
              "    <path d=\"M0 0h24v24H0V0z\" fill=\"none\"/>\n",
              "    <path d=\"M18.56 5.44l.94 2.06.94-2.06 2.06-.94-2.06-.94-.94-2.06-.94 2.06-2.06.94zm-11 1L8.5 8.5l.94-2.06 2.06-.94-2.06-.94L8.5 2.5l-.94 2.06-2.06.94zm10 10l.94 2.06.94-2.06 2.06-.94-2.06-.94-.94-2.06-.94 2.06-2.06.94z\"/><path d=\"M17.41 7.96l-1.37-1.37c-.4-.4-.92-.59-1.43-.59-.52 0-1.04.2-1.43.59L10.3 9.45l-7.72 7.72c-.78.78-.78 2.05 0 2.83L4 21.41c.39.39.9.59 1.41.59.51 0 1.02-.2 1.41-.59l7.78-7.78 2.81-2.81c.8-.78.8-2.07 0-2.86zM5.41 20L4 18.59l7.72-7.72 1.47 1.35L5.41 20z\"/>\n",
              "  </svg>\n",
              "      </button>\n",
              "      \n",
              "  <style>\n",
              "    .colab-df-container {\n",
              "      display:flex;\n",
              "      flex-wrap:wrap;\n",
              "      gap: 12px;\n",
              "    }\n",
              "\n",
              "    .colab-df-convert {\n",
              "      background-color: #E8F0FE;\n",
              "      border: none;\n",
              "      border-radius: 50%;\n",
              "      cursor: pointer;\n",
              "      display: none;\n",
              "      fill: #1967D2;\n",
              "      height: 32px;\n",
              "      padding: 0 0 0 0;\n",
              "      width: 32px;\n",
              "    }\n",
              "\n",
              "    .colab-df-convert:hover {\n",
              "      background-color: #E2EBFA;\n",
              "      box-shadow: 0px 1px 2px rgba(60, 64, 67, 0.3), 0px 1px 3px 1px rgba(60, 64, 67, 0.15);\n",
              "      fill: #174EA6;\n",
              "    }\n",
              "\n",
              "    [theme=dark] .colab-df-convert {\n",
              "      background-color: #3B4455;\n",
              "      fill: #D2E3FC;\n",
              "    }\n",
              "\n",
              "    [theme=dark] .colab-df-convert:hover {\n",
              "      background-color: #434B5C;\n",
              "      box-shadow: 0px 1px 3px 1px rgba(0, 0, 0, 0.15);\n",
              "      filter: drop-shadow(0px 1px 2px rgba(0, 0, 0, 0.3));\n",
              "      fill: #FFFFFF;\n",
              "    }\n",
              "  </style>\n",
              "\n",
              "      <script>\n",
              "        const buttonEl =\n",
              "          document.querySelector('#df-73aab823-abcf-4f01-ab18-ad5bd008e814 button.colab-df-convert');\n",
              "        buttonEl.style.display =\n",
              "          google.colab.kernel.accessAllowed ? 'block' : 'none';\n",
              "\n",
              "        async function convertToInteractive(key) {\n",
              "          const element = document.querySelector('#df-73aab823-abcf-4f01-ab18-ad5bd008e814');\n",
              "          const dataTable =\n",
              "            await google.colab.kernel.invokeFunction('convertToInteractive',\n",
              "                                                     [key], {});\n",
              "          if (!dataTable) return;\n",
              "\n",
              "          const docLinkHtml = 'Like what you see? Visit the ' +\n",
              "            '<a target=\"_blank\" href=https://colab.research.google.com/notebooks/data_table.ipynb>data table notebook</a>'\n",
              "            + ' to learn more about interactive tables.';\n",
              "          element.innerHTML = '';\n",
              "          dataTable['output_type'] = 'display_data';\n",
              "          await google.colab.output.renderOutput(dataTable, element);\n",
              "          const docLink = document.createElement('div');\n",
              "          docLink.innerHTML = docLinkHtml;\n",
              "          element.appendChild(docLink);\n",
              "        }\n",
              "      </script>\n",
              "    </div>\n",
              "  </div>\n",
              "  "
            ]
          },
          "metadata": {},
          "execution_count": 32
        }
      ],
      "source": [
        "# Lila Feature Importance\n",
        "importances_data = pd.concat([pd.Series(model.feature_names_in_), pd.Series(importances)], axis = 1, keys = ['predictor','importance'])\n",
        "importances_data.sort_values(by = ['importance'], ascending = False)\n"
      ]
    },
    {
      "cell_type": "markdown",
      "id": "169bacba",
      "metadata": {
        "id": "169bacba"
      },
      "source": [
        "Attempting stepwise selection:"
      ]
    },
    {
      "cell_type": "code",
      "execution_count": null,
      "id": "9bd4f103",
      "metadata": {
        "id": "9bd4f103"
      },
      "outputs": [],
      "source": [
        "import statsmodels.api as sm\n",
        "\n",
        "def processSubset(predictor_subset):\n",
        "    # Fit model on feature_set and calculate R-squared\n",
        "    model = sm.logit('y~' + '+'.join(predictor_subset),data = train).fit()\n",
        "    log_like = model.llf\n",
        "    return {\"model\":model, \"log_likelihood\":log_like}\n",
        "\n"
      ]
    },
    {
      "cell_type": "code",
      "execution_count": null,
      "id": "fbe3ede0",
      "metadata": {
        "id": "fbe3ede0"
      },
      "outputs": [],
      "source": [
        "#Function to find the best predictor out of p-k predictors and add it to the model containing the k predictors\n",
        "def forward(predictors):\n",
        "\n",
        "    # Pull out predictors we still need to process\n",
        "    remaining_predictors = [p for p in X.columns if p not in predictors]\n",
        "    \n",
        "    \n",
        "    results = []\n",
        "    \n",
        "    for p in remaining_predictors:\n",
        "        results.append(processSubset(predictors+[p]))\n",
        "    \n",
        "    # Wrap everything up in a nice dataframe\n",
        "    models = pd.DataFrame(results)\n",
        "    \n",
        "    # Choose the model with the highest RSS\n",
        "    best_model = models.loc[models['Rsquared'].argmax()]\n",
        "    \n",
        "    \n",
        "    print(\"Processed \", models.shape[0], \"models on\", len(predictors)+1, \"predictors\")\n",
        "    \n",
        "    # Return the best model, along with some other useful information about the model\n",
        "    return best_model"
      ]
    },
    {
      "cell_type": "code",
      "execution_count": null,
      "id": "99604245",
      "metadata": {
        "id": "99604245"
      },
      "outputs": [],
      "source": [
        "def forward_selection():\n",
        "    models_best = pd.DataFrame(columns=[\"Rsquared\", \"model\"])\n",
        "\n",
        "    predictors = []\n",
        "\n",
        "    for i in range(1,len(X.columns)+1):    \n",
        "        models_best.loc[i] = forward(predictors)\n",
        "        predictors = list(models_best.loc[i][\"model\"].params.index[1:])\n",
        "\n",
        "    return models_best"
      ]
    },
    {
      "cell_type": "code",
      "execution_count": null,
      "id": "85ec7468",
      "metadata": {
        "id": "85ec7468",
        "outputId": "6974eff1-d718-4e25-de89-837aa8a0b781"
      },
      "outputs": [
        {
          "ename": "NameError",
          "evalue": "name 'sm' is not defined",
          "output_type": "error",
          "traceback": [
            "\u001b[0;31m---------------------------------------------------------------------------\u001b[0m",
            "\u001b[0;31mNameError\u001b[0m                                 Traceback (most recent call last)",
            "Input \u001b[0;32mIn [152]\u001b[0m, in \u001b[0;36m<cell line: 1>\u001b[0;34m()\u001b[0m\n\u001b[0;32m----> 1\u001b[0m models_best \u001b[38;5;241m=\u001b[39m \u001b[43mforward_selection\u001b[49m\u001b[43m(\u001b[49m\u001b[43m)\u001b[49m\n",
            "Input \u001b[0;32mIn [151]\u001b[0m, in \u001b[0;36mforward_selection\u001b[0;34m()\u001b[0m\n\u001b[1;32m      4\u001b[0m predictors \u001b[38;5;241m=\u001b[39m []\n\u001b[1;32m      6\u001b[0m \u001b[38;5;28;01mfor\u001b[39;00m i \u001b[38;5;129;01min\u001b[39;00m \u001b[38;5;28mrange\u001b[39m(\u001b[38;5;241m1\u001b[39m,\u001b[38;5;28mlen\u001b[39m(X\u001b[38;5;241m.\u001b[39mcolumns)\u001b[38;5;241m+\u001b[39m\u001b[38;5;241m1\u001b[39m):    \n\u001b[0;32m----> 7\u001b[0m     models_best\u001b[38;5;241m.\u001b[39mloc[i] \u001b[38;5;241m=\u001b[39m \u001b[43mforward\u001b[49m\u001b[43m(\u001b[49m\u001b[43mpredictors\u001b[49m\u001b[43m)\u001b[49m\n\u001b[1;32m      8\u001b[0m     predictors \u001b[38;5;241m=\u001b[39m \u001b[38;5;28mlist\u001b[39m(models_best\u001b[38;5;241m.\u001b[39mloc[i][\u001b[38;5;124m\"\u001b[39m\u001b[38;5;124mmodel\u001b[39m\u001b[38;5;124m\"\u001b[39m]\u001b[38;5;241m.\u001b[39mparams\u001b[38;5;241m.\u001b[39mindex[\u001b[38;5;241m1\u001b[39m:])\n\u001b[1;32m     10\u001b[0m \u001b[38;5;28;01mreturn\u001b[39;00m models_best\n",
            "Input \u001b[0;32mIn [150]\u001b[0m, in \u001b[0;36mforward\u001b[0;34m(predictors)\u001b[0m\n\u001b[1;32m      8\u001b[0m results \u001b[38;5;241m=\u001b[39m []\n\u001b[1;32m     10\u001b[0m \u001b[38;5;28;01mfor\u001b[39;00m p \u001b[38;5;129;01min\u001b[39;00m remaining_predictors:\n\u001b[0;32m---> 11\u001b[0m     results\u001b[38;5;241m.\u001b[39mappend(\u001b[43mprocessSubset\u001b[49m\u001b[43m(\u001b[49m\u001b[43mpredictors\u001b[49m\u001b[38;5;241;43m+\u001b[39;49m\u001b[43m[\u001b[49m\u001b[43mp\u001b[49m\u001b[43m]\u001b[49m\u001b[43m)\u001b[49m)\n\u001b[1;32m     13\u001b[0m \u001b[38;5;66;03m# Wrap everything up in a nice dataframe\u001b[39;00m\n\u001b[1;32m     14\u001b[0m models \u001b[38;5;241m=\u001b[39m pd\u001b[38;5;241m.\u001b[39mDataFrame(results)\n",
            "Input \u001b[0;32mIn [149]\u001b[0m, in \u001b[0;36mprocessSubset\u001b[0;34m(predictor_subset)\u001b[0m\n\u001b[1;32m      1\u001b[0m \u001b[38;5;28;01mdef\u001b[39;00m \u001b[38;5;21mprocessSubset\u001b[39m(predictor_subset):\n\u001b[1;32m      2\u001b[0m     \u001b[38;5;66;03m# Fit model on feature_set and calculate R-squared\u001b[39;00m\n\u001b[0;32m----> 3\u001b[0m     model \u001b[38;5;241m=\u001b[39m \u001b[43msm\u001b[49m\u001b[38;5;241m.\u001b[39mlogit(\u001b[38;5;124m'\u001b[39m\u001b[38;5;124my~\u001b[39m\u001b[38;5;124m'\u001b[39m \u001b[38;5;241m+\u001b[39m \u001b[38;5;124m'\u001b[39m\u001b[38;5;124m+\u001b[39m\u001b[38;5;124m'\u001b[39m\u001b[38;5;241m.\u001b[39mjoin(predictor_subset),data \u001b[38;5;241m=\u001b[39m train)\u001b[38;5;241m.\u001b[39mfit()\n\u001b[1;32m      4\u001b[0m     log_like \u001b[38;5;241m=\u001b[39m model\u001b[38;5;241m.\u001b[39mllf\n\u001b[1;32m      5\u001b[0m     \u001b[38;5;28;01mreturn\u001b[39;00m {\u001b[38;5;124m\"\u001b[39m\u001b[38;5;124mmodel\u001b[39m\u001b[38;5;124m\"\u001b[39m:model, \u001b[38;5;124m\"\u001b[39m\u001b[38;5;124mlog_likelihood\u001b[39m\u001b[38;5;124m\"\u001b[39m:log_like}\n",
            "\u001b[0;31mNameError\u001b[0m: name 'sm' is not defined"
          ]
        }
      ],
      "source": [
        "models_best = forward_selection()"
      ]
    },
    {
      "cell_type": "code",
      "execution_count": null,
      "id": "39e325b7",
      "metadata": {
        "id": "39e325b7"
      },
      "outputs": [],
      "source": [
        "best_sub_plots()"
      ]
    },
    {
      "cell_type": "markdown",
      "id": "18d4edd0",
      "metadata": {
        "id": "18d4edd0"
      },
      "source": [
        "# Model Development: AdaBoost\n",
        "\n"
      ]
    },
    {
      "cell_type": "code",
      "execution_count": null,
      "id": "7aa85598",
      "metadata": {
        "id": "7aa85598",
        "outputId": "6bf7bc8d-f2c5-48d2-ba19-5c07626819be"
      },
      "outputs": [
        {
          "name": "stdout",
          "output_type": "stream",
          "text": [
            ">10 1.000 (0.001)\n",
            ">50 1.000 (0.000)\n",
            ">100 1.000 (0.000)\n",
            ">500 1.000 (0.000)\n",
            ">1000 1.000 (0.000)\n",
            ">5000 1.000 (0.000)\n"
          ]
        },
        {
          "data": {
            "text/plain": [
              "Text(0.5, 0, 'Number of trees')"
            ]
          },
          "execution_count": 90,
          "metadata": {},
          "output_type": "execute_result"
        },
        {
          "data": {
            "image/png": "[encoded data removed]",
            "text/plain": [
              "<Figure size 432x288 with 1 Axes>"
            ]
          },
          "metadata": {
            "needs_background": "light"
          },
          "output_type": "display_data"
        }
      ],
      "source": [
        "def get_models():\n",
        "    models = dict()\n",
        "    # define number of trees to consider\n",
        "    n_trees = [10, 50, 100, 500, 1000, 5000]\n",
        "    for n in n_trees:\n",
        "        models[str(n)] = AdaBoostClassifier(n_estimators=n,random_state=1)\n",
        "    return models\n",
        "\n",
        "# evaluate a given model using cross-validation\n",
        "def evaluate_model(model, X_train, y_train):\n",
        "    # define the evaluation procedure\n",
        "    cv = StratifiedKFold(n_splits=10, shuffle=True, random_state=1)\n",
        "    # evaluate the model and collect the results\n",
        "    scores = cross_val_score(model, X_train, y_train, scoring='accuracy', cv=cv, n_jobs=-1)\n",
        "    return scores\n",
        "\n",
        "# get the models to evaluate\n",
        "models = get_models()\n",
        "# evaluate the models and store results\n",
        "results, names = list(), list()\n",
        "for name, model in models.items():\n",
        "    # evaluate the model\n",
        "    scores = evaluate_model(model, X_train, y_train)\n",
        "    # store the results\n",
        "    results.append(scores)\n",
        "    names.append(name)\n",
        "    # summarize the performance along the way\n",
        "    print('>%s %.3f (%.3f)' % (name, np.mean(scores), np.std(scores)))\n",
        "# plot model performance for comparison\n",
        "plt.boxplot(results, labels=names, showmeans=True)\n",
        "plt.ylabel('Cross validation error',fontsize=15)\n",
        "plt.xlabel('Number of trees',fontsize=15)"
      ]
    },
    {
      "cell_type": "markdown",
      "source": [
        "# Model Development: XGBoost"
      ],
      "metadata": {
        "id": "IX6gc0tsdeX_"
      },
      "id": "IX6gc0tsdeX_"
    },
    {
      "cell_type": "code",
      "source": [
        "X_train.loc[:, plist]"
      ],
      "metadata": {
        "colab": {
          "base_uri": "https://localhost:8080/",
          "height": 483
        },
        "id": "MQky-zjM5-Rp",
        "outputId": "31e60206-7fd3-47eb-998e-341b6c63fa52"
      },
      "id": "MQky-zjM5-Rp",
      "execution_count": 71,
      "outputs": [
        {
          "output_type": "execute_result",
          "data": {
            "text/plain": [
              "        HETENURE  HEFAMINC   HWHHWGT  HRNUMHOU  HRHTYPE  HRMIS  HRHHID2  \\\n",
              "112251         3        13  34491316         3        4      5    12111   \n",
              "89743          3         3  12853838         2        4      5    12012   \n",
              "114059         2        10  37756466         5        1      6    12011   \n",
              "33973          2        16  40579130         2        1      7    12011   \n",
              "20904          1        16  45467838         3        1      8    12011   \n",
              "...          ...       ...       ...       ...      ...    ...      ...   \n",
              "18379          3        13  21372705         4        1      2    13011   \n",
              "94077          1        11  33387906         2        6      5    12012   \n",
              "8856           2         1  40151439         2        4      2    13011   \n",
              "98134          1        15  28083647         2        1      5    12011   \n",
              "9472           1        14  10070023         2        1      3    13111   \n",
              "\n",
              "        GEDIV  GESTFIPS  GTCBSA  ...  GTCSA  PRTAGE  PEEDUCA   PWFMWGT  \\\n",
              "112251      6        47       0  ...      0      26       39  29445158   \n",
              "89743       8        35   22140  ...      0      29       35  12853838   \n",
              "114059      3        17   44100  ...      0      28       40  37756466   \n",
              "33973       3        18   26900  ...      0      31       43  40579130   \n",
              "20904       5        24   12580  ...    548      53       44  45467838   \n",
              "...       ...       ...     ...  ...    ...     ...      ...       ...   \n",
              "18379       6         1   13820  ...      0      10       -1  23960728   \n",
              "94077       9         6   31080  ...    348      37       43  33387906   \n",
              "8856        6        47   34980  ...      0      10       -1  49328281   \n",
              "98134       7        40   36420  ...      0      48       42  28083647   \n",
              "9472        8        16   14260  ...      0      55       40  10070023   \n",
              "\n",
              "         PWLGWGT   PWSSWGT  PWVETWGT  QSTNUM  PWCMPWGT  HXFAMINC  \n",
              "112251         0  29445158  30622270   56171  30649540        42  \n",
              "89743          0  12853838  11304924   44370  11504978         0  \n",
              "114059         0  37756466  37957235   57193  37991036        23  \n",
              "33973   60302779  40579130  39956488   17188  40140673         0  \n",
              "20904   67567663  45467838  45859570   10727  45859610         0  \n",
              "...          ...       ...       ...     ...       ...       ...  \n",
              "18379          0  23960728         0    9349         0         0  \n",
              "94077          0  33387906  32546139   46475  33223156         0  \n",
              "8856           0  49328281         0    4651         0         0  \n",
              "98134          0  22532325  22323298   48327  22715863         0  \n",
              "9472    15682620  10520687  13552245    4922  10858623         0  \n",
              "\n",
              "[57226 rows x 22 columns]"
            ],
            "text/html": [
              "\n",
              "  <div id=\"df-a32ea547-255c-409a-b5a0-37554d64ed14\">\n",
              "    <div class=\"colab-df-container\">\n",
              "      <div>\n",
              "<style scoped>\n",
              "    .dataframe tbody tr th:only-of-type {\n",
              "        vertical-align: middle;\n",
              "    }\n",
              "\n",
              "    .dataframe tbody tr th {\n",
              "        vertical-align: top;\n",
              "    }\n",
              "\n",
              "    .dataframe thead th {\n",
              "        text-align: right;\n",
              "    }\n",
              "</style>\n",
              "<table border=\"1\" class=\"dataframe\">\n",
              "  <thead>\n",
              "    <tr style=\"text-align: right;\">\n",
              "      <th></th>\n",
              "      <th>HETENURE</th>\n",
              "      <th>HEFAMINC</th>\n",
              "      <th>HWHHWGT</th>\n",
              "      <th>HRNUMHOU</th>\n",
              "      <th>HRHTYPE</th>\n",
              "      <th>HRMIS</th>\n",
              "      <th>HRHHID2</th>\n",
              "      <th>GEDIV</th>\n",
              "      <th>GESTFIPS</th>\n",
              "      <th>GTCBSA</th>\n",
              "      <th>...</th>\n",
              "      <th>GTCSA</th>\n",
              "      <th>PRTAGE</th>\n",
              "      <th>PEEDUCA</th>\n",
              "      <th>PWFMWGT</th>\n",
              "      <th>PWLGWGT</th>\n",
              "      <th>PWSSWGT</th>\n",
              "      <th>PWVETWGT</th>\n",
              "      <th>QSTNUM</th>\n",
              "      <th>PWCMPWGT</th>\n",
              "      <th>HXFAMINC</th>\n",
              "    </tr>\n",
              "  </thead>\n",
              "  <tbody>\n",
              "    <tr>\n",
              "      <th>112251</th>\n",
              "      <td>3</td>\n",
              "      <td>13</td>\n",
              "      <td>34491316</td>\n",
              "      <td>3</td>\n",
              "      <td>4</td>\n",
              "      <td>5</td>\n",
              "      <td>12111</td>\n",
              "      <td>6</td>\n",
              "      <td>47</td>\n",
              "      <td>0</td>\n",
              "      <td>...</td>\n",
              "      <td>0</td>\n",
              "      <td>26</td>\n",
              "      <td>39</td>\n",
              "      <td>29445158</td>\n",
              "      <td>0</td>\n",
              "      <td>29445158</td>\n",
              "      <td>30622270</td>\n",
              "      <td>56171</td>\n",
              "      <td>30649540</td>\n",
              "      <td>42</td>\n",
              "    </tr>\n",
              "    <tr>\n",
              "      <th>89743</th>\n",
              "      <td>3</td>\n",
              "      <td>3</td>\n",
              "      <td>12853838</td>\n",
              "      <td>2</td>\n",
              "      <td>4</td>\n",
              "      <td>5</td>\n",
              "      <td>12012</td>\n",
              "      <td>8</td>\n",
              "      <td>35</td>\n",
              "      <td>22140</td>\n",
              "      <td>...</td>\n",
              "      <td>0</td>\n",
              "      <td>29</td>\n",
              "      <td>35</td>\n",
              "      <td>12853838</td>\n",
              "      <td>0</td>\n",
              "      <td>12853838</td>\n",
              "      <td>11304924</td>\n",
              "      <td>44370</td>\n",
              "      <td>11504978</td>\n",
              "      <td>0</td>\n",
              "    </tr>\n",
              "    <tr>\n",
              "      <th>114059</th>\n",
              "      <td>2</td>\n",
              "      <td>10</td>\n",
              "      <td>37756466</td>\n",
              "      <td>5</td>\n",
              "      <td>1</td>\n",
              "      <td>6</td>\n",
              "      <td>12011</td>\n",
              "      <td>3</td>\n",
              "      <td>17</td>\n",
              "      <td>44100</td>\n",
              "      <td>...</td>\n",
              "      <td>0</td>\n",
              "      <td>28</td>\n",
              "      <td>40</td>\n",
              "      <td>37756466</td>\n",
              "      <td>0</td>\n",
              "      <td>37756466</td>\n",
              "      <td>37957235</td>\n",
              "      <td>57193</td>\n",
              "      <td>37991036</td>\n",
              "      <td>23</td>\n",
              "    </tr>\n",
              "    <tr>\n",
              "      <th>33973</th>\n",
              "      <td>2</td>\n",
              "      <td>16</td>\n",
              "      <td>40579130</td>\n",
              "      <td>2</td>\n",
              "      <td>1</td>\n",
              "      <td>7</td>\n",
              "      <td>12011</td>\n",
              "      <td>3</td>\n",
              "      <td>18</td>\n",
              "      <td>26900</td>\n",
              "      <td>...</td>\n",
              "      <td>0</td>\n",
              "      <td>31</td>\n",
              "      <td>43</td>\n",
              "      <td>40579130</td>\n",
              "      <td>60302779</td>\n",
              "      <td>40579130</td>\n",
              "      <td>39956488</td>\n",
              "      <td>17188</td>\n",
              "      <td>40140673</td>\n",
              "      <td>0</td>\n",
              "    </tr>\n",
              "    <tr>\n",
              "      <th>20904</th>\n",
              "      <td>1</td>\n",
              "      <td>16</td>\n",
              "      <td>45467838</td>\n",
              "      <td>3</td>\n",
              "      <td>1</td>\n",
              "      <td>8</td>\n",
              "      <td>12011</td>\n",
              "      <td>5</td>\n",
              "      <td>24</td>\n",
              "      <td>12580</td>\n",
              "      <td>...</td>\n",
              "      <td>548</td>\n",
              "      <td>53</td>\n",
              "      <td>44</td>\n",
              "      <td>45467838</td>\n",
              "      <td>67567663</td>\n",
              "      <td>45467838</td>\n",
              "      <td>45859570</td>\n",
              "      <td>10727</td>\n",
              "      <td>45859610</td>\n",
              "      <td>0</td>\n",
              "    </tr>\n",
              "    <tr>\n",
              "      <th>...</th>\n",
              "      <td>...</td>\n",
              "      <td>...</td>\n",
              "      <td>...</td>\n",
              "      <td>...</td>\n",
              "      <td>...</td>\n",
              "      <td>...</td>\n",
              "      <td>...</td>\n",
              "      <td>...</td>\n",
              "      <td>...</td>\n",
              "      <td>...</td>\n",
              "      <td>...</td>\n",
              "      <td>...</td>\n",
              "      <td>...</td>\n",
              "      <td>...</td>\n",
              "      <td>...</td>\n",
              "      <td>...</td>\n",
              "      <td>...</td>\n",
              "      <td>...</td>\n",
              "      <td>...</td>\n",
              "      <td>...</td>\n",
              "      <td>...</td>\n",
              "    </tr>\n",
              "    <tr>\n",
              "      <th>18379</th>\n",
              "      <td>3</td>\n",
              "      <td>13</td>\n",
              "      <td>21372705</td>\n",
              "      <td>4</td>\n",
              "      <td>1</td>\n",
              "      <td>2</td>\n",
              "      <td>13011</td>\n",
              "      <td>6</td>\n",
              "      <td>1</td>\n",
              "      <td>13820</td>\n",
              "      <td>...</td>\n",
              "      <td>0</td>\n",
              "      <td>10</td>\n",
              "      <td>-1</td>\n",
              "      <td>23960728</td>\n",
              "      <td>0</td>\n",
              "      <td>23960728</td>\n",
              "      <td>0</td>\n",
              "      <td>9349</td>\n",
              "      <td>0</td>\n",
              "      <td>0</td>\n",
              "    </tr>\n",
              "    <tr>\n",
              "      <th>94077</th>\n",
              "      <td>1</td>\n",
              "      <td>11</td>\n",
              "      <td>33387906</td>\n",
              "      <td>2</td>\n",
              "      <td>6</td>\n",
              "      <td>5</td>\n",
              "      <td>12012</td>\n",
              "      <td>9</td>\n",
              "      <td>6</td>\n",
              "      <td>31080</td>\n",
              "      <td>...</td>\n",
              "      <td>348</td>\n",
              "      <td>37</td>\n",
              "      <td>43</td>\n",
              "      <td>33387906</td>\n",
              "      <td>0</td>\n",
              "      <td>33387906</td>\n",
              "      <td>32546139</td>\n",
              "      <td>46475</td>\n",
              "      <td>33223156</td>\n",
              "      <td>0</td>\n",
              "    </tr>\n",
              "    <tr>\n",
              "      <th>8856</th>\n",
              "      <td>2</td>\n",
              "      <td>1</td>\n",
              "      <td>40151439</td>\n",
              "      <td>2</td>\n",
              "      <td>4</td>\n",
              "      <td>2</td>\n",
              "      <td>13011</td>\n",
              "      <td>6</td>\n",
              "      <td>47</td>\n",
              "      <td>34980</td>\n",
              "      <td>...</td>\n",
              "      <td>0</td>\n",
              "      <td>10</td>\n",
              "      <td>-1</td>\n",
              "      <td>49328281</td>\n",
              "      <td>0</td>\n",
              "      <td>49328281</td>\n",
              "      <td>0</td>\n",
              "      <td>4651</td>\n",
              "      <td>0</td>\n",
              "      <td>0</td>\n",
              "    </tr>\n",
              "    <tr>\n",
              "      <th>98134</th>\n",
              "      <td>1</td>\n",
              "      <td>15</td>\n",
              "      <td>28083647</td>\n",
              "      <td>2</td>\n",
              "      <td>1</td>\n",
              "      <td>5</td>\n",
              "      <td>12011</td>\n",
              "      <td>7</td>\n",
              "      <td>40</td>\n",
              "      <td>36420</td>\n",
              "      <td>...</td>\n",
              "      <td>0</td>\n",
              "      <td>48</td>\n",
              "      <td>42</td>\n",
              "      <td>28083647</td>\n",
              "      <td>0</td>\n",
              "      <td>22532325</td>\n",
              "      <td>22323298</td>\n",
              "      <td>48327</td>\n",
              "      <td>22715863</td>\n",
              "      <td>0</td>\n",
              "    </tr>\n",
              "    <tr>\n",
              "      <th>9472</th>\n",
              "      <td>1</td>\n",
              "      <td>14</td>\n",
              "      <td>10070023</td>\n",
              "      <td>2</td>\n",
              "      <td>1</td>\n",
              "      <td>3</td>\n",
              "      <td>13111</td>\n",
              "      <td>8</td>\n",
              "      <td>16</td>\n",
              "      <td>14260</td>\n",
              "      <td>...</td>\n",
              "      <td>0</td>\n",
              "      <td>55</td>\n",
              "      <td>40</td>\n",
              "      <td>10070023</td>\n",
              "      <td>15682620</td>\n",
              "      <td>10520687</td>\n",
              "      <td>13552245</td>\n",
              "      <td>4922</td>\n",
              "      <td>10858623</td>\n",
              "      <td>0</td>\n",
              "    </tr>\n",
              "  </tbody>\n",
              "</table>\n",
              "<p>57226 rows × 22 columns</p>\n",
              "</div>\n",
              "      <button class=\"colab-df-convert\" onclick=\"convertToInteractive('df-a32ea547-255c-409a-b5a0-37554d64ed14')\"\n",
              "              title=\"Convert this dataframe to an interactive table.\"\n",
              "              style=\"display:none;\">\n",
              "        \n",
              "  <svg xmlns=\"http://www.w3.org/2000/svg\" height=\"24px\"viewBox=\"0 0 24 24\"\n",
              "       width=\"24px\">\n",
              "    <path d=\"M0 0h24v24H0V0z\" fill=\"none\"/>\n",
              "    <path d=\"M18.56 5.44l.94 2.06.94-2.06 2.06-.94-2.06-.94-.94-2.06-.94 2.06-2.06.94zm-11 1L8.5 8.5l.94-2.06 2.06-.94-2.06-.94L8.5 2.5l-.94 2.06-2.06.94zm10 10l.94 2.06.94-2.06 2.06-.94-2.06-.94-.94-2.06-.94 2.06-2.06.94z\"/><path d=\"M17.41 7.96l-1.37-1.37c-.4-.4-.92-.59-1.43-.59-.52 0-1.04.2-1.43.59L10.3 9.45l-7.72 7.72c-.78.78-.78 2.05 0 2.83L4 21.41c.39.39.9.59 1.41.59.51 0 1.02-.2 1.41-.59l7.78-7.78 2.81-2.81c.8-.78.8-2.07 0-2.86zM5.41 20L4 18.59l7.72-7.72 1.47 1.35L5.41 20z\"/>\n",
              "  </svg>\n",
              "      </button>\n",
              "      \n",
              "  <style>\n",
              "    .colab-df-container {\n",
              "      display:flex;\n",
              "      flex-wrap:wrap;\n",
              "      gap: 12px;\n",
              "    }\n",
              "\n",
              "    .colab-df-convert {\n",
              "      background-color: #E8F0FE;\n",
              "      border: none;\n",
              "      border-radius: 50%;\n",
              "      cursor: pointer;\n",
              "      display: none;\n",
              "      fill: #1967D2;\n",
              "      height: 32px;\n",
              "      padding: 0 0 0 0;\n",
              "      width: 32px;\n",
              "    }\n",
              "\n",
              "    .colab-df-convert:hover {\n",
              "      background-color: #E2EBFA;\n",
              "      box-shadow: 0px 1px 2px rgba(60, 64, 67, 0.3), 0px 1px 3px 1px rgba(60, 64, 67, 0.15);\n",
              "      fill: #174EA6;\n",
              "    }\n",
              "\n",
              "    [theme=dark] .colab-df-convert {\n",
              "      background-color: #3B4455;\n",
              "      fill: #D2E3FC;\n",
              "    }\n",
              "\n",
              "    [theme=dark] .colab-df-convert:hover {\n",
              "      background-color: #434B5C;\n",
              "      box-shadow: 0px 1px 3px 1px rgba(0, 0, 0, 0.15);\n",
              "      filter: drop-shadow(0px 1px 2px rgba(0, 0, 0, 0.3));\n",
              "      fill: #FFFFFF;\n",
              "    }\n",
              "  </style>\n",
              "\n",
              "      <script>\n",
              "        const buttonEl =\n",
              "          document.querySelector('#df-a32ea547-255c-409a-b5a0-37554d64ed14 button.colab-df-convert');\n",
              "        buttonEl.style.display =\n",
              "          google.colab.kernel.accessAllowed ? 'block' : 'none';\n",
              "\n",
              "        async function convertToInteractive(key) {\n",
              "          const element = document.querySelector('#df-a32ea547-255c-409a-b5a0-37554d64ed14');\n",
              "          const dataTable =\n",
              "            await google.colab.kernel.invokeFunction('convertToInteractive',\n",
              "                                                     [key], {});\n",
              "          if (!dataTable) return;\n",
              "\n",
              "          const docLinkHtml = 'Like what you see? Visit the ' +\n",
              "            '<a target=\"_blank\" href=https://colab.research.google.com/notebooks/data_table.ipynb>data table notebook</a>'\n",
              "            + ' to learn more about interactive tables.';\n",
              "          element.innerHTML = '';\n",
              "          dataTable['output_type'] = 'display_data';\n",
              "          await google.colab.output.renderOutput(dataTable, element);\n",
              "          const docLink = document.createElement('div');\n",
              "          docLink.innerHTML = docLinkHtml;\n",
              "          element.appendChild(docLink);\n",
              "        }\n",
              "      </script>\n",
              "    </div>\n",
              "  </div>\n",
              "  "
            ]
          },
          "metadata": {},
          "execution_count": 71
        }
      ]
    },
    {
      "cell_type": "code",
      "source": [
        "X_train_filtered = X_train.loc[:, plist]\n",
        "X_test_filtered = X_test.loc[:, plist]"
      ],
      "metadata": {
        "id": "xtvSB4IheRn7"
      },
      "id": "xtvSB4IheRn7",
      "execution_count": 81,
      "outputs": []
    },
    {
      "cell_type": "code",
      "source": [
        "scale_pos_weight = (len(y_train) - sum(y_train)) / sum(y_train)\n",
        "scale_pos_weight"
      ],
      "metadata": {
        "colab": {
          "base_uri": "https://localhost:8080/"
        },
        "id": "aeL5u8wydicx",
        "outputId": "bca42990-3b78-4cfc-b006-a3af76604440"
      },
      "id": "aeL5u8wydicx",
      "execution_count": 82,
      "outputs": [
        {
          "output_type": "execute_result",
          "data": {
            "text/plain": [
              "4.790933009512244"
            ]
          },
          "metadata": {},
          "execution_count": 82
        }
      ]
    },
    {
      "cell_type": "code",
      "source": [
        "import xgboost as xgb\n",
        "from sklearn.model_selection import GridSearchCV, RandomizedSearchCV\n",
        "\n",
        "# Optimal estimators search\n",
        "param_grid = {'n_estimators': [100, 200, 1000, 4000], \n",
        "              'learning_rate': [0.01, 0.1, 0.5, 1.0], \n",
        "              'max_depth': range(2, 23, 2), \n",
        "              'subsample': [0.3, 0.5, 0.6], \n",
        "              'gamma': range(1, 10, 2), \n",
        "              'reg_lambda': [1, 5, 10], \n",
        "              'colsample_bytree': [0.25, 0.5, 0.75], \n",
        "              'scale_pos_weight': [scale_pos_weight]}\n",
        "\n",
        "# Defining the evaluation procedure\n",
        "cv = KFold(n_splits = 3, shuffle = True)\n",
        "\n",
        "# Defining the grid search procedure\n",
        "grid_search = RandomizedSearchCV(estimator = xgb.XGBClassifier(), param_distributions = param_grid, n_iter = 15, n_jobs = -1, cv = cv, \n",
        "                          verbose = True, scoring = 'accuracy')\n",
        "# execute the grid search\n",
        "grid_result = grid_search.fit(X_train_filtered, y_train)\n",
        "\n",
        "# summarize the best score and configuration\n",
        "print(\"Best: %f using %s\" % (grid_result.best_score_, grid_result.best_params_))"
      ],
      "metadata": {
        "colab": {
          "base_uri": "https://localhost:8080/"
        },
        "id": "PN3DuBs3d7f1",
        "outputId": "af1b49ac-1677-422e-8d4e-d7a47c26866c"
      },
      "id": "PN3DuBs3d7f1",
      "execution_count": 83,
      "outputs": [
        {
          "output_type": "stream",
          "name": "stdout",
          "text": [
            "Fitting 3 folds for each of 15 candidates, totalling 45 fits\n",
            "Best: 0.892636 using {'subsample': 0.5, 'scale_pos_weight': 4.790933009512244, 'reg_lambda': 1, 'n_estimators': 1000, 'max_depth': 16, 'learning_rate': 0.1, 'gamma': 7, 'colsample_bytree': 0.75}\n"
          ]
        }
      ]
    },
    {
      "cell_type": "code",
      "source": [
        "baseline_model = xgb.XGBClassifier().fit(X_train_filtered, y_train)"
      ],
      "metadata": {
        "id": "W3AeVuBY_JoB"
      },
      "id": "W3AeVuBY_JoB",
      "execution_count": 87,
      "outputs": []
    },
    {
      "cell_type": "code",
      "source": [
        "# Fitting model with optimals\n",
        "model = xgb.XGBClassifier(max_depth = 16, subsample = 0.5, scale_pos_weight = scale_pos_weight, reg_lambda = 1, n_estimators = 1000, learning_rate = 0.1, gamma = 7, colsample_bytree = 0.75).fit(X_train_filtered, y_train)"
      ],
      "metadata": {
        "id": "NL34xbZteocX"
      },
      "id": "NL34xbZteocX",
      "execution_count": 84,
      "outputs": []
    },
    {
      "cell_type": "code",
      "source": [
        "#Computing the accuracy and recall\n",
        "print('Train Scores')\n",
        "print(\"Accuracy: \",accuracy_score(y_train, baseline_model.predict(X_train_filtered))*100)  \n",
        "print(\"Recall: \", recall_score(y_train, baseline_model.predict(X_train_filtered))*100)\n",
        "print(\"Precision: \", precision_score(y_train, baseline_model.predict(X_train_filtered))*100)\n",
        "\n",
        "#Confusion matrix\n",
        "cm = pd.DataFrame(confusion_matrix(y_train, baseline_model.predict(X_train_filtered)), \n",
        "                  columns=['Predicted 0', 'Predicted 1'], index = ['Actual 0', 'Actual 1'])\n",
        "sns.heatmap(cm, annot=True, cmap='Blues', fmt='g');"
      ],
      "metadata": {
        "colab": {
          "base_uri": "https://localhost:8080/",
          "height": 498
        },
        "id": "D9XPay3t_T5I",
        "outputId": "42a9d878-9817-438a-b1ae-7209c6c34a2e"
      },
      "id": "D9XPay3t_T5I",
      "execution_count": 91,
      "outputs": [
        {
          "output_type": "stream",
          "name": "stdout",
          "text": [
            "Train Scores\n",
            "Accuracy:  92.47894313773459\n",
            "Recall:  66.535114349322\n",
            "Precision:  86.83306920232435\n"
          ]
        },
        {
          "output_type": "display_data",
          "data": {
            "text/plain": [
              "<Figure size 640x480 with 2 Axes>"
            ],
            "image/png": "[encoded data removed]"
          },
          "metadata": {}
        }
      ]
    },
    {
      "cell_type": "code",
      "source": [
        "#Computing the accuracy and recall\n",
        "print('Test Scores')\n",
        "print(\"Accuracy: \", accuracy_score(y_test, baseline_model.predict(X_test_filtered))*100)  \n",
        "print(\"Recall: \", recall_score(y_test, baseline_model.predict(X_test_filtered))*100)\n",
        "print(\"Precision: \", precision_score(y_test, baseline_model.predict(X_test_filtered))*100)\n",
        "\n",
        "#Confusion matrix\n",
        "cm = pd.DataFrame(confusion_matrix(y_test, baseline_model.predict(X_test_filtered)), \n",
        "                  columns=['Predicted 0', 'Predicted 1'], index = ['Actual 0', 'Actual 1'])\n",
        "sns.heatmap(cm, annot=True, cmap='Blues', fmt='g');"
      ],
      "metadata": {
        "colab": {
          "base_uri": "https://localhost:8080/",
          "height": 498
        },
        "id": "WhR-F-A5_i3D",
        "outputId": "d48e2d35-ab56-4408-bbe3-13ebe8558067"
      },
      "id": "WhR-F-A5_i3D",
      "execution_count": 92,
      "outputs": [
        {
          "output_type": "stream",
          "name": "stdout",
          "text": [
            "Test Scores\n",
            "Accuracy:  88.37631928426644\n",
            "Recall:  51.602690937870996\n",
            "Precision:  74.77064220183486\n"
          ]
        },
        {
          "output_type": "display_data",
          "data": {
            "text/plain": [
              "<Figure size 640x480 with 2 Axes>"
            ],
            "image/png": "[encoded data removed]"
          },
          "metadata": {}
        }
      ]
    },
    {
      "cell_type": "code",
      "source": [
        "# Performance metrics computation for the optimum decision threshold probability\n",
        "#desired_threshold = 0.447\n",
        "\n",
        "#y_pred_prob = model.predict_proba(X_train)[:,1] \n",
        "\n",
        "# Classifying observations in the positive class (y = 1) if the predicted probability is greater\n",
        "# than the desired decision threshold probability\n",
        "#y_pred = y_pred_prob > desired_threshold\n",
        "#y_pred = y_pred.astype(int)\n",
        "\n",
        "#Computing the accuracy and recall\n",
        "print('Train Scores')\n",
        "print(\"Accuracy: \",accuracy_score(y_train, model.predict(X_train_filtered))*100)  \n",
        "print(\"Recall: \", recall_score(y_train, model.predict(X_train_filtered))*100)\n",
        "print(\"Precision: \", precision_score(y_train, model.predict(X_train_filtered))*100)\n",
        "\n",
        "#Confusion matrix\n",
        "cm = pd.DataFrame(confusion_matrix(y_train, model.predict(X_train_filtered)), \n",
        "                  columns=['Predicted 0', 'Predicted 1'], index = ['Actual 0', 'Actual 1'])\n",
        "sns.heatmap(cm, annot=True, cmap='Blues', fmt='g');"
      ],
      "metadata": {
        "colab": {
          "base_uri": "https://localhost:8080/",
          "height": 498
        },
        "id": "grMB_DDifl8o",
        "outputId": "625209ed-7de7-4f45-aa97-b09e79a4e2c4"
      },
      "id": "grMB_DDifl8o",
      "execution_count": 93,
      "outputs": [
        {
          "output_type": "stream",
          "name": "stdout",
          "text": [
            "Train Scores\n",
            "Accuracy:  98.6789221682452\n",
            "Recall:  99.96964177292045\n",
            "Precision:  92.9176072234763\n"
          ]
        },
        {
          "output_type": "display_data",
          "data": {
            "text/plain": [
              "<Figure size 640x480 with 2 Axes>"
            ],
            "image/png": "[encoded data removed]"
          },
          "metadata": {}
        }
      ]
    },
    {
      "cell_type": "code",
      "source": [
        "#Computing the accuracy and recall\n",
        "print('Test Scores')\n",
        "print(\"Accuracy: \", accuracy_score(y_test, model.predict(X_test_filtered))*100)  \n",
        "print(\"Recall: \", recall_score(y_test, model.predict(X_test_filtered))*100)\n",
        "print(\"Precision: \", precision_score(y_test, model.predict(X_test_filtered))*100)\n",
        "\n",
        "#Confusion matrix\n",
        "cm = pd.DataFrame(confusion_matrix(y_test, model.predict(X_test_filtered)), \n",
        "                  columns=['Predicted 0', 'Predicted 1'], index = ['Actual 0', 'Actual 1'])\n",
        "sns.heatmap(cm, annot=True, cmap='Blues', fmt='g');"
      ],
      "metadata": {
        "colab": {
          "base_uri": "https://localhost:8080/",
          "height": 498
        },
        "id": "x_BmqDHKf25P",
        "outputId": "ec5f648e-5191-4112-dead-ac28e4bd19c2"
      },
      "id": "x_BmqDHKf25P",
      "execution_count": 94,
      "outputs": [
        {
          "output_type": "stream",
          "name": "stdout",
          "text": [
            "Test Scores\n",
            "Accuracy:  91.87810162857343\n",
            "Recall:  82.11317768104472\n",
            "Precision:  74.50628366247756\n"
          ]
        },
        {
          "output_type": "display_data",
          "data": {
            "text/plain": [
              "<Figure size 640x480 with 2 Axes>"
            ],
            "image/png": "[encoded data removed]"
          },
          "metadata": {}
        }
      ]
    },
    {
      "cell_type": "code",
      "source": [
        "%%capture\n",
        "pip install catboost"
      ],
      "metadata": {
        "id": "1UDzM8NzDFvG"
      },
      "id": "1UDzM8NzDFvG",
      "execution_count": 97,
      "outputs": []
    },
    {
      "cell_type": "code",
      "source": [
        "from lightgbm import LGBMRegressor\n",
        "from catboost import CatBoostRegressor, CatBoostClassifier"
      ],
      "metadata": {
        "id": "1YZJl0vEC8mR"
      },
      "id": "1YZJl0vEC8mR",
      "execution_count": 99,
      "outputs": []
    },
    {
      "cell_type": "code",
      "source": [
        "cbmodel = CatBoostClassifier(verbose = False).fit(X_train_filtered, y_train)"
      ],
      "metadata": {
        "id": "XwSyURPdDBsF"
      },
      "id": "XwSyURPdDBsF",
      "execution_count": 100,
      "outputs": []
    },
    {
      "cell_type": "code",
      "source": [
        "print('Train Scores')\n",
        "print(\"Accuracy: \",accuracy_score(y_train, cbmodel.predict(X_train_filtered))*100)  \n",
        "print(\"Recall: \", recall_score(y_train, cbmodel.predict(X_train_filtered))*100)\n",
        "print(\"Precision: \", precision_score(y_train, cbmodel.predict(X_train_filtered))*100)\n",
        "\n",
        "#Confusion matrix\n",
        "cm = pd.DataFrame(confusion_matrix(y_train, cbmodel.predict(X_train_filtered)), \n",
        "                  columns=['Predicted 0', 'Predicted 1'], index = ['Actual 0', 'Actual 1'])\n",
        "sns.heatmap(cm, annot=True, cmap='Blues', fmt='g');"
      ],
      "metadata": {
        "colab": {
          "base_uri": "https://localhost:8080/",
          "height": 498
        },
        "id": "zDe3jJpUDguZ",
        "outputId": "78d905fe-1eba-447f-cd20-f46d8127d791"
      },
      "id": "zDe3jJpUDguZ",
      "execution_count": 101,
      "outputs": [
        {
          "output_type": "stream",
          "name": "stdout",
          "text": [
            "Train Scores\n",
            "Accuracy:  91.80092964736308\n",
            "Recall:  61.51588747217163\n",
            "Precision:  87.24167623421354\n"
          ]
        },
        {
          "output_type": "display_data",
          "data": {
            "text/plain": [
              "<Figure size 640x480 with 2 Axes>"
            ],
            "image/png": "[encoded data removed]"
          },
          "metadata": {}
        }
      ]
    },
    {
      "cell_type": "code",
      "source": [
        "#Computing the accuracy and recall\n",
        "print('Test Scores')\n",
        "print(\"Accuracy: \", accuracy_score(y_test, cbmodel.predict(X_test_filtered))*100)  \n",
        "print(\"Recall: \", recall_score(y_test, cbmodel.predict(X_test_filtered))*100)\n",
        "print(\"Precision: \", precision_score(y_test, cbmodel.predict(X_test_filtered))*100)\n",
        "\n",
        "#Confusion matrix\n",
        "cm = pd.DataFrame(confusion_matrix(y_test, cbmodel.predict(X_test_filtered)), \n",
        "                  columns=['Predicted 0', 'Predicted 1'], index = ['Actual 0', 'Actual 1'])\n",
        "sns.heatmap(cm, annot=True, cmap='Blues', fmt='g');"
      ],
      "metadata": {
        "colab": {
          "base_uri": "https://localhost:8080/",
          "height": 498
        },
        "id": "2ccp3q5QDoI9",
        "outputId": "4749c5e5-5d6a-49dd-ecff-5b81ef0c96ba"
      },
      "id": "2ccp3q5QDoI9",
      "execution_count": 102,
      "outputs": [
        {
          "output_type": "stream",
          "name": "stdout",
          "text": [
            "Test Scores\n",
            "Accuracy:  89.26399664499895\n",
            "Recall:  52.07756232686981\n",
            "Precision:  80.19500304692261\n"
          ]
        },
        {
          "output_type": "display_data",
          "data": {
            "text/plain": [
              "<Figure size 640x480 with 2 Axes>"
            ],
            "image/png": "[encoded data removed]"
          },
          "metadata": {}
        }
      ]
    },
    {
      "cell_type": "code",
      "source": [
        "X_train_filtered.to_csv('X_train_tree.csv')\n",
        "y_train.to_csv('y_train_tree.csv')\n",
        "X_test_filtered.to_csv('X_test_tree.csv')\n",
        "y_test.to_csv('y_test_tree.csv')"
      ],
      "metadata": {
        "id": "KdEaykwbHqDO"
      },
      "id": "KdEaykwbHqDO",
      "execution_count": 103,
      "outputs": []
    }
  ],
  "metadata": {
    "kernelspec": {
      "display_name": "Python 3 (ipykernel)",
      "language": "python",
      "name": "python3"
    },
    "language_info": {
      "codemirror_mode": {
        "name": "ipython",
        "version": 3
      },
      "file_extension": ".py",
      "mimetype": "text/x-python",
      "name": "python",
      "nbconvert_exporter": "python",
      "pygments_lexer": "ipython3",
      "version": "3.9.12"
    },
    "colab": {
      "provenance": []
    }
  },
  "nbformat": 4,
  "nbformat_minor": 5
}